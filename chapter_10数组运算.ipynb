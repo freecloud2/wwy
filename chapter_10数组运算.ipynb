{
 "cells": [
  {
   "cell_type": "markdown",
   "metadata": {},
   "source": [
    "# Section 10.1.1"
   ]
  },
  {
   "cell_type": "code",
   "execution_count": 1,
   "metadata": {},
   "outputs": [
    {
     "name": "stdout",
     "output_type": "stream",
     "text": [
      "[0 1 2 3 4 5]\n"
     ]
    }
   ],
   "source": [
    "import numpy as np\n",
    "array1=np.array(range(6))\n",
    "print(array1)"
   ]
  },
  {
   "cell_type": "code",
   "execution_count": 2,
   "metadata": {},
   "outputs": [
    {
     "name": "stdout",
     "output_type": "stream",
     "text": [
      "[[0 1 2]\n",
      " [3 4 5]]\n"
     ]
    }
   ],
   "source": [
    "array1.shape\n",
    "array1.shape=2,3\n",
    "print(array1)"
   ]
  },
  {
   "cell_type": "code",
   "execution_count": 3,
   "metadata": {},
   "outputs": [
    {
     "name": "stdout",
     "output_type": "stream",
     "text": [
      "[[0 1]\n",
      " [2 3]\n",
      " [4 5]]\n"
     ]
    },
    {
     "data": {
      "text/plain": [
       "(3, 2)"
      ]
     },
     "execution_count": 3,
     "metadata": {},
     "output_type": "execute_result"
    }
   ],
   "source": [
    "array2=array1.reshape(3,2)\n",
    "print(array2)\n",
    "array2.shape"
   ]
  },
  {
   "cell_type": "code",
   "execution_count": 5,
   "metadata": {
    "collapsed": true
   },
   "outputs": [],
   "source": [
    "array1.shape\n",
    "array1[1,2]=88"
   ]
  },
  {
   "cell_type": "code",
   "execution_count": 6,
   "metadata": {},
   "outputs": [
    {
     "name": "stdout",
     "output_type": "stream",
     "text": [
      "[[ 0  1  2]\n",
      " [ 3  4 88]]\n"
     ]
    }
   ],
   "source": [
    "print(array1)"
   ]
  },
  {
   "cell_type": "code",
   "execution_count": 7,
   "metadata": {},
   "outputs": [
    {
     "name": "stdout",
     "output_type": "stream",
     "text": [
      "[[ 0  1]\n",
      " [ 2  3]\n",
      " [ 4 88]]\n"
     ]
    }
   ],
   "source": [
    "print(array2)"
   ]
  },
  {
   "cell_type": "code",
   "execution_count": 8,
   "metadata": {},
   "outputs": [
    {
     "name": "stdout",
     "output_type": "stream",
     "text": [
      "[[1 2 3]\n",
      " [4 5 6]\n",
      " [7 8 9]]\n"
     ]
    }
   ],
   "source": [
    "array3=np.array([[1,2,3], [4,5,6], [7,8,9]])\n",
    "print(array3)"
   ]
  },
  {
   "cell_type": "code",
   "execution_count": 9,
   "metadata": {},
   "outputs": [
    {
     "data": {
      "text/plain": [
       "(3, 3)"
      ]
     },
     "execution_count": 9,
     "metadata": {},
     "output_type": "execute_result"
    }
   ],
   "source": [
    "array3.shape"
   ]
  },
  {
   "cell_type": "code",
   "execution_count": 10,
   "metadata": {},
   "outputs": [
    {
     "name": "stdout",
     "output_type": "stream",
     "text": [
      "[13 12 11 10  9  8  7  6  5  4  3  2]\n"
     ]
    }
   ],
   "source": [
    "array4=np.arange(13,1,-1)\n",
    "print(array4)"
   ]
  },
  {
   "cell_type": "code",
   "execution_count": 11,
   "metadata": {},
   "outputs": [
    {
     "name": "stdout",
     "output_type": "stream",
     "text": [
      "[[[13 12 11]\n",
      "  [10  9  8]]\n",
      "\n",
      " [[ 7  6  5]\n",
      "  [ 4  3  2]]]\n"
     ]
    }
   ],
   "source": [
    "array4.shape=2,2,3\n",
    "print(array4)"
   ]
  },
  {
   "cell_type": "code",
   "execution_count": 12,
   "metadata": {},
   "outputs": [
    {
     "data": {
      "text/plain": [
       "array([[[13, 12],\n",
       "        [11, 10]],\n",
       "\n",
       "       [[ 9,  8],\n",
       "        [ 7,  6]],\n",
       "\n",
       "       [[ 5,  4],\n",
       "        [ 3,  2]]])"
      ]
     },
     "execution_count": 12,
     "metadata": {},
     "output_type": "execute_result"
    }
   ],
   "source": [
    "array5=array4.reshape(3,2,2)\n",
    "array5"
   ]
  },
  {
   "cell_type": "code",
   "execution_count": 13,
   "metadata": {},
   "outputs": [
    {
     "name": "stdout",
     "output_type": "stream",
     "text": [
      "[  1.   2.   3.   4.   5.   6.   7.   8.   9.  10.  11.  12.]\n"
     ]
    },
    {
     "data": {
      "text/plain": [
       "dtype('float64')"
      ]
     },
     "execution_count": 13,
     "metadata": {},
     "output_type": "execute_result"
    }
   ],
   "source": [
    "array6=np.linspace(1,12,12)\n",
    "print(array6)\n",
    "array6.dtype"
   ]
  },
  {
   "cell_type": "code",
   "execution_count": 14,
   "metadata": {},
   "outputs": [
    {
     "name": "stdout",
     "output_type": "stream",
     "text": [
      "[ 1  2  3  4  5  6  7  8  9 10 11 12]\n"
     ]
    }
   ],
   "source": [
    "array7=np.linspace(1,12,12,dtype=int)\n",
    "print(array7)"
   ]
  },
  {
   "cell_type": "code",
   "execution_count": 16,
   "metadata": {},
   "outputs": [
    {
     "name": "stdout",
     "output_type": "stream",
     "text": [
      "[[ 0.  0.  0.  0.  0.]\n",
      " [ 0.  0.  0.  0.  0.]\n",
      " [ 0.  0.  0.  0.  0.]\n",
      " [ 0.  0.  0.  0.  0.]]\n"
     ]
    },
    {
     "data": {
      "text/plain": [
       "dtype('float64')"
      ]
     },
     "execution_count": 16,
     "metadata": {},
     "output_type": "execute_result"
    }
   ],
   "source": [
    "a = np.zeros( (4,5) ) # 利用 zeros() 函 数 生 成 数 组\n",
    "print(a)\n",
    "a.dtype"
   ]
  },
  {
   "cell_type": "code",
   "execution_count": 17,
   "metadata": {},
   "outputs": [
    {
     "data": {
      "text/plain": [
       "array([[[1, 1, 1, 1],\n",
       "        [1, 1, 1, 1],\n",
       "        [1, 1, 1, 1],\n",
       "        [1, 1, 1, 1],\n",
       "        [1, 1, 1, 1]],\n",
       "\n",
       "       [[1, 1, 1, 1],\n",
       "        [1, 1, 1, 1],\n",
       "        [1, 1, 1, 1],\n",
       "        [1, 1, 1, 1],\n",
       "        [1, 1, 1, 1]]], dtype=int16)"
      ]
     },
     "execution_count": 17,
     "metadata": {},
     "output_type": "execute_result"
    }
   ],
   "source": [
    "np.ones((2,5,4),dtype=np.int16)"
   ]
  },
  {
   "cell_type": "code",
   "execution_count": 18,
   "metadata": {},
   "outputs": [
    {
     "data": {
      "text/plain": [
       "array([[  2.20118582e+025,   2.05884232e-071],\n",
       "       [  5.48773331e-057,   1.38670049e-047],\n",
       "       [  5.04342478e+180,   1.16712372e+200]])"
      ]
     },
     "execution_count": 18,
     "metadata": {},
     "output_type": "execute_result"
    }
   ],
   "source": [
    "np.empty( (3,2) )"
   ]
  },
  {
   "cell_type": "markdown",
   "metadata": {},
   "source": [
    "# Section 10.1.2"
   ]
  },
  {
   "cell_type": "code",
   "execution_count": 19,
   "metadata": {},
   "outputs": [
    {
     "name": "stdout",
     "output_type": "stream",
     "text": [
      "[ 1  6 11 16 21 26]\n",
      "16\n",
      "[ 6 11]\n",
      "[ 1  6 11 16 21]\n",
      "[11 16 21 26]\n",
      "26\n",
      "16\n",
      "[ 1  6 11 16 21]\n",
      "[11 16 21]\n"
     ]
    }
   ],
   "source": [
    "a1=np.linspace(1,26,6,dtype=int)\n",
    "print(a1)\n",
    "print(a1[3])\n",
    "print(a1[1:3])\n",
    "print(a1[:5])\n",
    "print(a1[2:])\n",
    "print(a1[-1])\n",
    "print(a1[-3])\n",
    "print(a1[:-1])\n",
    "print(a1[2:-1])"
   ]
  },
  {
   "cell_type": "code",
   "execution_count": 20,
   "metadata": {},
   "outputs": [
    {
     "name": "stdout",
     "output_type": "stream",
     "text": [
      "[ 1  6 11]\n",
      "19\n"
     ]
    }
   ],
   "source": [
    "a2=a1[0:3:1]\n",
    "print(a2)\n",
    "a1[0]=19\n",
    "print(a2[0])"
   ]
  },
  {
   "cell_type": "code",
   "execution_count": 21,
   "metadata": {},
   "outputs": [
    {
     "name": "stdout",
     "output_type": "stream",
     "text": [
      "[19 16 11]\n",
      "19\n"
     ]
    }
   ],
   "source": [
    "a1[[0,1,4]]\n",
    "a3=a1[[0,3,2]]\n",
    "print(a3)\n",
    "a1[0]=23\n",
    "print(a3[0])"
   ]
  },
  {
   "cell_type": "code",
   "execution_count": 22,
   "metadata": {},
   "outputs": [
    {
     "name": "stdout",
     "output_type": "stream",
     "text": [
      "[[ 0  1  2  3  4  5]\n",
      " [ 6  7  8  9 10 11]\n",
      " [12 13 14 15 16 17]\n",
      " [18 19 20 21 22 23]]\n",
      "[[[ 0  1  2  3]\n",
      "  [ 4  5  6  7]\n",
      "  [ 8  9 10 11]]\n",
      "\n",
      " [[12 13 14 15]\n",
      "  [16 17 18 19]\n",
      "  [20 21 22 23]]]\n"
     ]
    }
   ],
   "source": [
    "na1=np.array(np.arange(24),dtype=int).reshape(4,6)\n",
    "print(na1)\n",
    "na1[:2,1:]\n",
    "na1[[2,3],[2,4]]\n",
    "na1[2:,[2,4]]\n",
    "na2=na1.reshape(2,3,4)\n",
    "print(na2)"
   ]
  },
  {
   "cell_type": "code",
   "execution_count": 23,
   "metadata": {},
   "outputs": [
    {
     "data": {
      "text/plain": [
       "array([14, 19, 21])"
      ]
     },
     "execution_count": 23,
     "metadata": {},
     "output_type": "execute_result"
    }
   ],
   "source": [
    "na2[(1,1,2)]\n",
    "na2[1,1,2]\n",
    "na2[[1,1,0],[0,1,2],[2,3,1]]\n",
    "na2[(1,1,1),(0,1,2),(2,3,1)]"
   ]
  },
  {
   "cell_type": "markdown",
   "metadata": {},
   "source": [
    "# Section 10.1.3"
   ]
  },
  {
   "cell_type": "code",
   "execution_count": 24,
   "metadata": {},
   "outputs": [
    {
     "name": "stdout",
     "output_type": "stream",
     "text": [
      "[0 1 2 3 4]\n",
      "[2 3 4 5 6]\n"
     ]
    }
   ],
   "source": [
    "ar1=np.array(np.arange(5))\n",
    "print(ar1)\n",
    "np.add(ar1,4)\n",
    "ar2=np.array([2,3,4,5,6])\n",
    "print(ar2)"
   ]
  },
  {
   "cell_type": "code",
   "execution_count": 25,
   "metadata": {},
   "outputs": [
    {
     "name": "stdout",
     "output_type": "stream",
     "text": [
      "[ 2  4  6  8 10]\n"
     ]
    }
   ],
   "source": [
    "ar1+ar2\n",
    "np.add(ar1,ar2)\n",
    "np.add(ar1,ar2,ar1)\n",
    "print(ar1)"
   ]
  },
  {
   "cell_type": "code",
   "execution_count": 26,
   "metadata": {},
   "outputs": [
    {
     "name": "stdout",
     "output_type": "stream",
     "text": [
      "[0 1 2 3 4]\n",
      "[10 19 28 47 56]\n"
     ]
    }
   ],
   "source": [
    "a = np.array( [10,20,30,50,60] )\n",
    "b = np.arange( 5 )\n",
    "print(b)\n",
    "c=a-b\n",
    "print(c)"
   ]
  },
  {
   "cell_type": "code",
   "execution_count": 27,
   "metadata": {},
   "outputs": [
    {
     "data": {
      "text/plain": [
       "array([ 0,  1,  4,  9, 16], dtype=int32)"
      ]
     },
     "execution_count": 27,
     "metadata": {},
     "output_type": "execute_result"
    }
   ],
   "source": [
    "b**2"
   ]
  },
  {
   "cell_type": "code",
   "execution_count": 28,
   "metadata": {},
   "outputs": [
    {
     "data": {
      "text/plain": [
       "array([-8.39071529,  4.08082062,  1.5425145 ,  9.64966028, -9.5241298 ])"
      ]
     },
     "execution_count": 28,
     "metadata": {},
     "output_type": "execute_result"
    }
   ],
   "source": [
    "10*np.cos(a)"
   ]
  },
  {
   "cell_type": "code",
   "execution_count": 29,
   "metadata": {},
   "outputs": [
    {
     "data": {
      "text/plain": [
       "array([ True,  True,  True, False, False], dtype=bool)"
      ]
     },
     "execution_count": 29,
     "metadata": {},
     "output_type": "execute_result"
    }
   ],
   "source": [
    "a<40"
   ]
  },
  {
   "cell_type": "markdown",
   "metadata": {},
   "source": [
    "# 1.利用numpy创建一个4阶希尔伯特矩阵"
   ]
  },
  {
   "cell_type": "code",
   "execution_count": 31,
   "metadata": {},
   "outputs": [
    {
     "name": "stdout",
     "output_type": "stream",
     "text": [
      "[[ 1.          0.5         0.33333333  0.25      ]\n",
      " [ 0.5         0.33333333  0.25        0.2       ]\n",
      " [ 0.33333333  0.25        0.2         0.16666667]\n",
      " [ 0.25        0.2         0.16666667  0.14285714]]\n"
     ]
    }
   ],
   "source": [
    "import numpy as np\n",
    "hilbert = 1/(np.arange(4)+np.arange(1,5)[:,np.newaxis])\n",
    "print(hilbert)"
   ]
  },
  {
   "cell_type": "markdown",
   "metadata": {},
   "source": [
    "# 2.在chapter9的第5题中，创建了持仓份额的字典。现在，利用numpy包获取需要买进的日期及当天的股价"
   ]
  },
  {
   "cell_type": "code",
   "execution_count": 34,
   "metadata": {
    "scrolled": true
   },
   "outputs": [
    {
     "name": "stdout",
     "output_type": "stream",
     "text": [
      "[numpy.datetime64('2015-01-15T00:00:00.000000'), numpy.datetime64('2015-01-16T00:00:00.000000'), numpy.datetime64('2015-01-20T00:00:00.000000')]\n"
     ]
    },
    {
     "data": {
      "text/plain": [
       "[7.4, 7.43, 7.44]"
      ]
     },
     "execution_count": 34,
     "metadata": {},
     "output_type": "execute_result"
    }
   ],
   "source": [
    "import datetime as dt\n",
    "import numpy as np\n",
    "import datetime as dt\n",
    "import math\n",
    "dates = [dt.datetime(2015,1,13)+dt.timedelta(i) for i in range(5)]\n",
    "closes = [7.31,7.28,7.40,7.43,7.41]\n",
    "prices = {dates[i]:closes[i] for i in range(5)}\n",
    "prices[dt.datetime(2015,1,20)] = 7.44\n",
    "dates.append(dt.datetime(2015,1,20))\n",
    "cash = 10000\n",
    "share = {dates[0]:0}\n",
    "for i in range(1,6):\n",
    "    if prices[dates[i]]>prices[dates[i-1]]:\n",
    "        buyshare = math.floor(0.5*cash/prices[dates[i]])\n",
    "        share[dates[i]]= buyshare\n",
    "        cash=cash-buyshare*prices[dates[i]]+share[dates[i-1]]*prices[dates[i]]\n",
    "    else:\n",
    "         share[dates[i]]= 0\n",
    "buyDates=[np.datetime64(date) for date in share.keys() if share[date]>0]\n",
    "print(buyDates)\n",
    "[prices[dt.datetime.\n",
    "         strptime(np.datetime_as_string(date)[:10],\n",
    "         \t\"%Y-%m-%d\")] for date in buyDates]"
   ]
  },
  {
   "cell_type": "markdown",
   "metadata": {},
   "source": [
    "# 3.利用numpy计算出将区间[0,2π]分成1000份后每个端点的余弦值"
   ]
  },
  {
   "cell_type": "code",
   "execution_count": 36,
   "metadata": {},
   "outputs": [
    {
     "name": "stdout",
     "output_type": "stream",
     "text": [
      "[ 1.          0.99998026  0.99992104 ...,  0.99992104  0.99998026  1.        ]\n"
     ]
    }
   ],
   "source": [
    "cosin = np.cos(np.linspace(0,2*np.pi,1001))\n",
    "print(cosin)"
   ]
  },
  {
   "cell_type": "markdown",
   "metadata": {},
   "source": [
    "# 4.利用numpy求下列列表的均值、方差、标准差及中位数"
   ]
  },
  {
   "cell_type": "code",
   "execution_count": 40,
   "metadata": {},
   "outputs": [
    {
     "name": "stdout",
     "output_type": "stream",
     "text": [
      "-0.035\n",
      "0.789905\n",
      "0.88876599845\n",
      "-0.045\n"
     ]
    }
   ],
   "source": [
    "sample = np.array([0.5,1.43,-1.36,-0.16,0.29,-0.59,\n",
    "\t              1.16,-0.33,0.07,-1.36])\n",
    "\n",
    "print(np.mean(sample))\n",
    "print(np.var(sample))\n",
    "print(np.std(sample))\n",
    "print(np.median(sample))"
   ]
  },
  {
   "cell_type": "code",
   "execution_count": null,
   "metadata": {
    "collapsed": true
   },
   "outputs": [],
   "source": []
  }
 ],
 "metadata": {
  "kernelspec": {
   "display_name": "Python 3",
   "language": "python",
   "name": "python3"
  },
  "language_info": {
   "codemirror_mode": {
    "name": "ipython",
    "version": 3
   },
   "file_extension": ".py",
   "mimetype": "text/x-python",
   "name": "python",
   "nbconvert_exporter": "python",
   "pygments_lexer": "ipython3",
   "version": "3.6.3"
  }
 },
 "nbformat": 4,
 "nbformat_minor": 2
}
