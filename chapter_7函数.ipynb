{
 "cells": [
  {
   "cell_type": "markdown",
   "metadata": {},
   "source": [
    "# Section 7.1"
   ]
  },
  {
   "cell_type": "code",
   "execution_count": 1,
   "metadata": {},
   "outputs": [
    {
     "data": {
      "text/plain": [
       "4"
      ]
     },
     "execution_count": 1,
     "metadata": {},
     "output_type": "execute_result"
    }
   ],
   "source": [
    "def my_subtraction(minuend , subtrahend):\n",
    "    difference = minuend - subtrahend\n",
    "    return difference\n",
    "\n",
    "i = 6; j = 2\n",
    "d = my_subtraction(i,j)\n",
    "\n",
    "d"
   ]
  },
  {
   "cell_type": "code",
   "execution_count": 2,
   "metadata": {},
   "outputs": [
    {
     "data": {
      "text/plain": [
       "5.0"
      ]
     },
     "execution_count": 2,
     "metadata": {},
     "output_type": "execute_result"
    }
   ],
   "source": [
    "d2 = my_subtraction(7,2.0)\n",
    "\n",
    "d2"
   ]
  },
  {
   "cell_type": "code",
   "execution_count": 3,
   "metadata": {},
   "outputs": [
    {
     "data": {
      "text/plain": [
       "1"
      ]
     },
     "execution_count": 3,
     "metadata": {},
     "output_type": "execute_result"
    }
   ],
   "source": [
    "def my_abs(x):\n",
    "    if x>=0:\n",
    "        return x\n",
    "    else:\n",
    "        return -x\n",
    "        \n",
    "a=1\n",
    "\n",
    "b=2\n",
    "\n",
    "my_abs(a-b)"
   ]
  },
  {
   "cell_type": "code",
   "execution_count": 4,
   "metadata": {},
   "outputs": [
    {
     "name": "stdout",
     "output_type": "stream",
     "text": [
      "Hello World!\n"
     ]
    }
   ],
   "source": [
    "def hello():\n",
    "    print('Hello World!')\n",
    "    \n",
    "hello()"
   ]
  },
  {
   "cell_type": "code",
   "execution_count": 5,
   "metadata": {},
   "outputs": [
    {
     "data": {
      "text/plain": [
       "(12, 2)"
      ]
     },
     "execution_count": 5,
     "metadata": {},
     "output_type": "execute_result"
    }
   ],
   "source": [
    "def donothing():\n",
    "    pass\n",
    "\n",
    "def my_arithmetic(x,y):\n",
    "    z1 = x + y\n",
    "    z2 = x - y\n",
    "    return z1, z2\n",
    "    \n",
    "r1, r2 = my_arithmetic(7,5)\n",
    "r1, r2"
   ]
  },
  {
   "cell_type": "markdown",
   "metadata": {},
   "source": [
    "# Section 7.2"
   ]
  },
  {
   "cell_type": "code",
   "execution_count": 12,
   "metadata": {},
   "outputs": [
    {
     "name": "stdout",
     "output_type": "stream",
     "text": [
      "5\n",
      "-5\n",
      "5\n",
      "5\n"
     ]
    }
   ],
   "source": [
    "print(my_subtraction(7,2))\n",
    "\n",
    "print(my_subtraction(2,7))\n",
    "\n",
    "print(my_subtraction(minuend = 7, subtrahend = 2))\n",
    "\n",
    "print(my_subtraction(subtrahend = 2, minuend = 7))"
   ]
  },
  {
   "cell_type": "markdown",
   "metadata": {},
   "source": [
    "# Notice: the next line will return an error message"
   ]
  },
  {
   "cell_type": "code",
   "execution_count": null,
   "metadata": {
    "collapsed": true
   },
   "outputs": [],
   "source": [
    "print(my_subtraction(subtrahend = 2, 7))"
   ]
  },
  {
   "cell_type": "code",
   "execution_count": 11,
   "metadata": {},
   "outputs": [
    {
     "name": "stdout",
     "output_type": "stream",
     "text": [
      "Hi World!\n"
     ]
    }
   ],
   "source": [
    "def my_print(arg1, arg2 = 'World!'):\n",
    "    print(arg1, arg2)\n",
    "    \n",
    "my_print('Hi')"
   ]
  },
  {
   "cell_type": "code",
   "execution_count": 14,
   "metadata": {},
   "outputs": [
    {
     "name": "stdout",
     "output_type": "stream",
     "text": [
      "Hi\n"
     ]
    }
   ],
   "source": [
    "expression = 'Hi'\n",
    "def greeting(words = expression):\n",
    "    print(words)\n",
    "    \n",
    "greeting()"
   ]
  },
  {
   "cell_type": "markdown",
   "metadata": {},
   "source": [
    "# greeting() 的 预 设 值 仍 是 字 符 串 'Hi ’"
   ]
  },
  {
   "cell_type": "code",
   "execution_count": 15,
   "metadata": {},
   "outputs": [
    {
     "name": "stdout",
     "output_type": "stream",
     "text": [
      "Hi\n"
     ]
    }
   ],
   "source": [
    "expression = 'Hello'\n",
    "greeting() # greeting() 的 预 设 值 仍 是 字 符 串 'Hi ’"
   ]
  },
  {
   "cell_type": "code",
   "execution_count": 16,
   "metadata": {
    "collapsed": true
   },
   "outputs": [],
   "source": [
    "def change_obj(x,y):\n",
    "    x[0] = 'A'\n",
    "    y = 7\n",
    "    \n",
    "letters = ['a','b','c']\n",
    "number = 6"
   ]
  },
  {
   "cell_type": "code",
   "execution_count": 17,
   "metadata": {},
   "outputs": [
    {
     "data": {
      "text/plain": [
       "(['A', 'b', 'c'], 6)"
      ]
     },
     "execution_count": 17,
     "metadata": {},
     "output_type": "execute_result"
    }
   ],
   "source": [
    "change_obj(letters ,number)\n",
    "letters , number"
   ]
  },
  {
   "cell_type": "markdown",
   "metadata": {},
   "source": [
    "# 默 认 值 本 来 是 空 列 表 ， 函 数 执 行 完 后 变 为 ['a']"
   ]
  },
  {
   "cell_type": "code",
   "execution_count": 18,
   "metadata": {},
   "outputs": [
    {
     "name": "stdout",
     "output_type": "stream",
     "text": [
      "['a']\n",
      "['a', 'b']\n",
      "['a', 'b', 'c']\n",
      "['a', 'b', 'c', 'd']\n"
     ]
    }
   ],
   "source": [
    "def growing_list(x,y=[]):\n",
    "    y.append(x)\n",
    "    print(y)\n",
    "    \n",
    "growing_list('a') # 默 认 值 本 来 是 空 列 表 ， 函 数 执 行 完 后 变 为 ['a']\n",
    "\n",
    "growing_list('b')\n",
    "\n",
    "growing_list('c')\n",
    "\n",
    "growing_list('d')"
   ]
  },
  {
   "cell_type": "markdown",
   "metadata": {},
   "source": [
    "# Section 7.2.1"
   ]
  },
  {
   "cell_type": "code",
   "execution_count": 21,
   "metadata": {},
   "outputs": [
    {
     "name": "stdout",
     "output_type": "stream",
     "text": [
      "6\n",
      "6\n"
     ]
    }
   ],
   "source": [
    "def my_addition0(addend):\n",
    "    sum = 0\n",
    "    for i in addend:\n",
    "        sum = sum + i\n",
    "    return sum\n",
    "    \n",
    "numbers0 = (1,2,3)\n",
    "\n",
    "numbers1 = [1,2,3]\n",
    "\n",
    "print(my_addition0(numbers0))\n",
    "\n",
    "print(my_addition0(numbers1))"
   ]
  },
  {
   "cell_type": "markdown",
   "metadata": {},
   "source": [
    "# Notice: the next line will return an error message"
   ]
  },
  {
   "cell_type": "code",
   "execution_count": null,
   "metadata": {},
   "outputs": [],
   "source": [
    "my_addition0(1,2)\n",
    "\n",
    "def my_addition1(*addend):\n",
    "    sum = 0\n",
    "    for i in addend:\n",
    "        sum = sum + i\n",
    "    return sum\n",
    "    \n",
    "my_addition1(1,2)\n",
    "\n",
    "my_addition1(1,2,3)"
   ]
  },
  {
   "cell_type": "code",
   "execution_count": 25,
   "metadata": {},
   "outputs": [
    {
     "data": {
      "text/plain": [
       "7.199999999999999"
      ]
     },
     "execution_count": 25,
     "metadata": {},
     "output_type": "execute_result"
    }
   ],
   "source": [
    "def weighted_sum(x1,x2,*y):\n",
    "    sum = 0\n",
    "    size = len(y)\n",
    "    weight = 0.3/size\n",
    "    for i in y:\n",
    "        sum = sum + weight*i\n",
    "    sum = sum + 0.4*x1 + 0.3*x2\n",
    "    return sum\n",
    "    \n",
    "weighted_sum(6,7,8,9,10)"
   ]
  },
  {
   "cell_type": "markdown",
   "metadata": {},
   "source": [
    "# Section 7.3"
   ]
  },
  {
   "cell_type": "code",
   "execution_count": 26,
   "metadata": {},
   "outputs": [
    {
     "name": "stdout",
     "output_type": "stream",
     "text": [
      "Hello World!\n"
     ]
    }
   ],
   "source": [
    "def greeting2():\n",
    "    print('Hello World!')\n",
    "    \n",
    "greeting2()\n"
   ]
  },
  {
   "cell_type": "code",
   "execution_count": 27,
   "metadata": {},
   "outputs": [
    {
     "name": "stdout",
     "output_type": "stream",
     "text": [
      "Hello World!\n"
     ]
    }
   ],
   "source": [
    "greeting3 = lambda : print('Hello World!')\n",
    "greeting3()"
   ]
  },
  {
   "cell_type": "code",
   "execution_count": 28,
   "metadata": {},
   "outputs": [
    {
     "name": "stdout",
     "output_type": "stream",
     "text": [
      "9\n",
      "27\n",
      "81\n",
      "243\n"
     ]
    }
   ],
   "source": [
    "def power2(x): return x**2\n",
    "\n",
    "def power3(x): return x**3\n",
    "\n",
    "def power4(x): return x**4\n",
    "\n",
    "def power5(x): return x**5\n",
    "\n",
    "L1 = [power2, power3, power4, power5]\n",
    "\n",
    "for p in L1:\n",
    "    print(p(3))"
   ]
  },
  {
   "cell_type": "code",
   "execution_count": 29,
   "metadata": {},
   "outputs": [
    {
     "name": "stdout",
     "output_type": "stream",
     "text": [
      "9\n",
      "27\n",
      "81\n",
      "243\n"
     ]
    }
   ],
   "source": [
    "L2 = [lambda x: x**2, lambda x: x**3, lambda x: x**4, lambda x: x**5]\n",
    "\n",
    "for p in L2:\n",
    "    print(p(3))"
   ]
  },
  {
   "cell_type": "markdown",
   "metadata": {},
   "source": [
    "# Section 7.4"
   ]
  },
  {
   "cell_type": "code",
   "execution_count": 30,
   "metadata": {},
   "outputs": [
    {
     "data": {
      "text/plain": [
       "13"
      ]
     },
     "execution_count": 30,
     "metadata": {},
     "output_type": "execute_result"
    }
   ],
   "source": [
    "x = 6\n",
    "x + 3\n",
    "\n",
    "def fun1(value):\n",
    "    return (x + value)\n",
    "\n",
    "fun1(7)"
   ]
  },
  {
   "cell_type": "code",
   "execution_count": null,
   "metadata": {},
   "outputs": [],
   "source": [
    "def fun2():\n",
    "    y = 10\n",
    "    \n",
    "x + y"
   ]
  },
  {
   "cell_type": "code",
   "execution_count": 32,
   "metadata": {},
   "outputs": [
    {
     "data": {
      "text/plain": [
       "67"
      ]
     },
     "execution_count": 32,
     "metadata": {},
     "output_type": "execute_result"
    }
   ],
   "source": [
    "def fun3(value):\n",
    "    x = 60\n",
    "    return (x + value)\n",
    "\n",
    "fun3(7)"
   ]
  },
  {
   "cell_type": "code",
   "execution_count": 33,
   "metadata": {},
   "outputs": [
    {
     "name": "stdout",
     "output_type": "stream",
     "text": [
      "20\n"
     ]
    }
   ],
   "source": [
    "a = 10\n",
    "def fun4():\n",
    "    global a\n",
    "    a = 20\n",
    "    \n",
    "fun4()\n",
    "print(a)"
   ]
  },
  {
   "cell_type": "markdown",
   "metadata": {},
   "source": [
    "# 1、判断下列代码输出结果"
   ]
  },
  {
   "cell_type": "code",
   "execution_count": 34,
   "metadata": {},
   "outputs": [
    {
     "data": {
      "text/plain": [
       "True"
      ]
     },
     "execution_count": 34,
     "metadata": {},
     "output_type": "execute_result"
    }
   ],
   "source": [
    "x=[1,2 ,3]\n",
    "def permutation(x):\n",
    "    x[0],x[-1]=x[-1],x[0]\n",
    "    return(x)\n",
    "y=permutation(x)\n",
    "y is x"
   ]
  },
  {
   "cell_type": "markdown",
   "metadata": {},
   "source": [
    "# 2、编写名为sum_lists()的函数，实现两个长度相等的向量相加"
   ]
  },
  {
   "cell_type": "code",
   "execution_count": 35,
   "metadata": {
    "collapsed": true
   },
   "outputs": [],
   "source": [
    "def sum_lists(x,y):\n",
    "    return([x[i]+y[i] for i in range(len(x))])"
   ]
  },
  {
   "cell_type": "markdown",
   "metadata": {},
   "source": [
    "# 3、编写函数，利用不确定数目的形参实现向量的相加"
   ]
  },
  {
   "cell_type": "code",
   "execution_count": 36,
   "metadata": {
    "collapsed": true
   },
   "outputs": [],
   "source": [
    "def sum2(*lists):\n",
    "    if len(lists)==2:\n",
    "        return(sum_lists(lists[0],lists[1]))\n",
    "    else:\n",
    "        return(sum_lists(lists[0],sum2(*lists[1:])))"
   ]
  },
  {
   "cell_type": "markdown",
   "metadata": {},
   "source": [
    "# 4、编写函数，用于计算斐波那契数列(形如：1、1、2、3、5、8、13...)"
   ]
  },
  {
   "cell_type": "code",
   "execution_count": 37,
   "metadata": {},
   "outputs": [
    {
     "name": "stdout",
     "output_type": "stream",
     "text": [
      "1\n",
      "1\n",
      "2\n",
      "3\n",
      "5\n"
     ]
    }
   ],
   "source": [
    "def fibo(n):\n",
    "    if(n<3):\n",
    "        a=1\n",
    "    else:\n",
    "        a=fibo(n-1)+fibo(n-2)\n",
    "    return(a)\n",
    "def seqfibo(n):\n",
    "    for i in range(1,n+1):\n",
    "        print(fibo(i))\n",
    "seqfibo(5)"
   ]
  },
  {
   "cell_type": "markdown",
   "metadata": {},
   "source": [
    "# 5、利用map函数编写函数，实现对多个数值同时求绝对值"
   ]
  },
  {
   "cell_type": "code",
   "execution_count": 38,
   "metadata": {},
   "outputs": [
    {
     "data": {
      "text/plain": [
       "[5, 55, 6, 0, 7]"
      ]
     },
     "execution_count": 38,
     "metadata": {},
     "output_type": "execute_result"
    }
   ],
   "source": [
    "def multi_abs(*numbers):\n",
    "    return(list(map(abs,numbers)))\n",
    "multi_abs(-5,55,-6,0,-7)"
   ]
  },
  {
   "cell_type": "markdown",
   "metadata": {},
   "source": [
    "# 6、利用map函数及匿名表达式编写函数，实现计算收益率大于0的天数(假设收益率数据是一个表格)"
   ]
  },
  {
   "cell_type": "code",
   "execution_count": 39,
   "metadata": {},
   "outputs": [
    {
     "data": {
      "text/plain": [
       "3"
      ]
     },
     "execution_count": 39,
     "metadata": {},
     "output_type": "execute_result"
    }
   ],
   "source": [
    "def count_positive(returns):\n",
    "    return(sum(map(lambda x: x>0,returns)))\n",
    "ret=[-0.4,0.5,-0.34,0.45,0.50]\n",
    "count_positive(ret)"
   ]
  },
  {
   "cell_type": "code",
   "execution_count": null,
   "metadata": {
    "collapsed": true
   },
   "outputs": [],
   "source": []
  }
 ],
 "metadata": {
  "kernelspec": {
   "display_name": "Python 3",
   "language": "python",
   "name": "python3"
  },
  "language_info": {
   "codemirror_mode": {
    "name": "ipython",
    "version": 3
   },
   "file_extension": ".py",
   "mimetype": "text/x-python",
   "name": "python",
   "nbconvert_exporter": "python",
   "pygments_lexer": "ipython3",
   "version": "3.6.3"
  }
 },
 "nbformat": 4,
 "nbformat_minor": 2
}
