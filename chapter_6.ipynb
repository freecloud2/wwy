{
 "cells": [
  {
   "cell_type": "markdown",
   "metadata": {},
   "source": [
    "# Section 6.1"
   ]
  },
  {
   "cell_type": "code",
   "execution_count": 1,
   "metadata": {},
   "outputs": [
    {
     "data": {
      "text/plain": [
       "91587488"
      ]
     },
     "execution_count": 1,
     "metadata": {},
     "output_type": "execute_result"
    }
   ],
   "source": [
    "a=[1,2,3]\n",
    "\n",
    "id(a)"
   ]
  },
  {
   "cell_type": "code",
   "execution_count": 2,
   "metadata": {},
   "outputs": [
    {
     "data": {
      "text/plain": [
       "91587488"
      ]
     },
     "execution_count": 2,
     "metadata": {},
     "output_type": "execute_result"
    }
   ],
   "source": [
    "b=a\n",
    "\n",
    "id(b)"
   ]
  },
  {
   "cell_type": "code",
   "execution_count": 3,
   "metadata": {},
   "outputs": [
    {
     "data": {
      "text/plain": [
       "91587488"
      ]
     },
     "execution_count": 3,
     "metadata": {},
     "output_type": "execute_result"
    }
   ],
   "source": [
    "b[1]=25\n",
    "\n",
    "id(a)"
   ]
  },
  {
   "cell_type": "code",
   "execution_count": 4,
   "metadata": {},
   "outputs": [
    {
     "data": {
      "text/plain": [
       "91587488"
      ]
     },
     "execution_count": 4,
     "metadata": {},
     "output_type": "execute_result"
    }
   ],
   "source": [
    "id(b)"
   ]
  },
  {
   "cell_type": "code",
   "execution_count": 5,
   "metadata": {},
   "outputs": [
    {
     "data": {
      "text/plain": [
       "[1, 25, 3]"
      ]
     },
     "execution_count": 5,
     "metadata": {},
     "output_type": "execute_result"
    }
   ],
   "source": [
    "a"
   ]
  },
  {
   "cell_type": "code",
   "execution_count": 6,
   "metadata": {},
   "outputs": [
    {
     "data": {
      "text/plain": [
       "[1, 25, 3]"
      ]
     },
     "execution_count": 6,
     "metadata": {},
     "output_type": "execute_result"
    }
   ],
   "source": [
    "b"
   ]
  },
  {
   "cell_type": "code",
   "execution_count": 7,
   "metadata": {},
   "outputs": [
    {
     "data": {
      "text/plain": [
       "[1, 2, 3]"
      ]
     },
     "execution_count": 7,
     "metadata": {},
     "output_type": "execute_result"
    }
   ],
   "source": [
    "b[1]=2\n",
    "\n",
    "a"
   ]
  },
  {
   "cell_type": "code",
   "execution_count": 8,
   "metadata": {},
   "outputs": [
    {
     "data": {
      "text/plain": [
       "[1, 2, 3]"
      ]
     },
     "execution_count": 8,
     "metadata": {},
     "output_type": "execute_result"
    }
   ],
   "source": [
    "b"
   ]
  },
  {
   "cell_type": "code",
   "execution_count": 9,
   "metadata": {},
   "outputs": [
    {
     "data": {
      "text/plain": [
       "116908160"
      ]
     },
     "execution_count": 9,
     "metadata": {},
     "output_type": "execute_result"
    }
   ],
   "source": [
    "c=[1,2,3]\n",
    "\n",
    "id(c)"
   ]
  },
  {
   "cell_type": "code",
   "execution_count": 10,
   "metadata": {},
   "outputs": [
    {
     "data": {
      "text/plain": [
       "True"
      ]
     },
     "execution_count": 10,
     "metadata": {},
     "output_type": "execute_result"
    }
   ],
   "source": [
    "c is a\n",
    "\n",
    "c==a"
   ]
  },
  {
   "cell_type": "code",
   "execution_count": 11,
   "metadata": {},
   "outputs": [
    {
     "name": "stdout",
     "output_type": "stream",
     "text": [
      "[1, 2, 88]\n",
      "[1, 2, 3]\n",
      "[1, 2, 3]\n"
     ]
    }
   ],
   "source": [
    "c[2]=88\n",
    "\n",
    "print(c)\n",
    "print(a)\n",
    "print(b)"
   ]
  },
  {
   "cell_type": "markdown",
   "metadata": {},
   "source": [
    "# Section 6.1.2"
   ]
  },
  {
   "cell_type": "code",
   "execution_count": 12,
   "metadata": {},
   "outputs": [
    {
     "name": "stdout",
     "output_type": "stream",
     "text": [
      "25678\n",
      "25678\n",
      "25678\n"
     ]
    }
   ],
   "source": [
    "x=y=z=25678\n",
    "print(x)\n",
    "print(y)\n",
    "print(z)"
   ]
  },
  {
   "cell_type": "code",
   "execution_count": 13,
   "metadata": {},
   "outputs": [
    {
     "name": "stdout",
     "output_type": "stream",
     "text": [
      "[2, 5, 6, 7, 8]\n"
     ]
    },
    {
     "data": {
      "text/plain": [
       "True"
      ]
     },
     "execution_count": 13,
     "metadata": {},
     "output_type": "execute_result"
    }
   ],
   "source": [
    "x1=y1=z1=[2,5,6,7,8]\n",
    "\n",
    "print(x1)\n",
    "\n",
    "(x1 is y1) and (y1 is z1) and (x1 is z1)"
   ]
  },
  {
   "cell_type": "markdown",
   "metadata": {},
   "source": [
    "# Section 6.1.3"
   ]
  },
  {
   "cell_type": "code",
   "execution_count": 15,
   "metadata": {},
   "outputs": [
    {
     "name": "stdout",
     "output_type": "stream",
     "text": [
      "2\n",
      "5\n",
      "6\n"
     ]
    }
   ],
   "source": [
    "x2,y2,z2=2,5,6\n",
    "\n",
    "print(x2)\n",
    "\n",
    "print(y2)\n",
    "\n",
    "print(z2)"
   ]
  },
  {
   "cell_type": "code",
   "execution_count": 16,
   "metadata": {
    "collapsed": true
   },
   "outputs": [],
   "source": [
    "x3=2,5,6"
   ]
  },
  {
   "cell_type": "markdown",
   "metadata": {},
   "source": [
    "# Section 6.1.4"
   ]
  },
  {
   "cell_type": "code",
   "execution_count": 17,
   "metadata": {},
   "outputs": [
    {
     "data": {
      "text/plain": [
       "18"
      ]
     },
     "execution_count": 17,
     "metadata": {},
     "output_type": "execute_result"
    }
   ],
   "source": [
    "a=6\n",
    "a*=3\n",
    "a"
   ]
  },
  {
   "cell_type": "code",
   "execution_count": 18,
   "metadata": {},
   "outputs": [
    {
     "data": {
      "text/plain": [
       "11"
      ]
     },
     "execution_count": 18,
     "metadata": {},
     "output_type": "execute_result"
    }
   ],
   "source": [
    "b=17\n",
    "b-=6\n",
    "b"
   ]
  },
  {
   "cell_type": "code",
   "execution_count": 19,
   "metadata": {},
   "outputs": [
    {
     "data": {
      "text/plain": [
       "0"
      ]
     },
     "execution_count": 19,
     "metadata": {},
     "output_type": "execute_result"
    }
   ],
   "source": [
    "c=21\n",
    "c%=3\n",
    "c"
   ]
  },
  {
   "cell_type": "markdown",
   "metadata": {},
   "source": [
    "# Section 6.2"
   ]
  },
  {
   "cell_type": "code",
   "execution_count": 20,
   "metadata": {},
   "outputs": [
    {
     "name": "stdout",
     "output_type": "stream",
     "text": [
      " 变量 a 的 值 大 于 变 量 b 的值 \n",
      "6\n",
      "10\n"
     ]
    }
   ],
   "source": [
    "a=6\n",
    "b=4\n",
    "if a>b:\n",
    "    print(' 变量 a 的 值 大 于 变 量 b 的值 ')\n",
    "else:\n",
    "    print(' 变量 b 的 值 大 于 变 量 a 的值 ')\n",
    "\n",
    "if a>5 and b>5:\n",
    "    a+=6\n",
    "else:\n",
    "    b+=6\n",
    "\n",
    "print(a)\n",
    "\n",
    "print(b)"
   ]
  },
  {
   "cell_type": "code",
   "execution_count": 21,
   "metadata": {},
   "outputs": [
    {
     "name": "stdout",
     "output_type": "stream",
     "text": [
      "Excellent job\n"
     ]
    }
   ],
   "source": [
    "grade=95\n",
    "if grade >=90:\n",
    "    print(\"Excellent job\")\n",
    "elif all([grade >70,grade <90]):\n",
    "    print(\"good job\")\n",
    "else:\n",
    "    print(\"It's uncommon\")"
   ]
  },
  {
   "cell_type": "code",
   "execution_count": 22,
   "metadata": {},
   "outputs": [
    {
     "data": {
      "text/plain": [
       "'123'"
      ]
     },
     "execution_count": 22,
     "metadata": {},
     "output_type": "execute_result"
    }
   ],
   "source": [
    "a=6\n",
    "b=4\n",
    "' 变量 a 的 值 大 于 变 量 b 的值 ' if a>b else ' 变量 b 的 值 大 于 变 量 a 的值 '\n",
    "\n",
    "a=4**3 if {} else '123'\n",
    "\n",
    "a"
   ]
  },
  {
   "cell_type": "markdown",
   "metadata": {},
   "source": [
    "# Section 6.3"
   ]
  },
  {
   "cell_type": "code",
   "execution_count": 23,
   "metadata": {},
   "outputs": [
    {
     "name": "stdout",
     "output_type": "stream",
     "text": [
      "2\n",
      "3\n",
      "5\n",
      "6\n",
      "7\n",
      "['ppython']\n",
      "['ppython', 'ypython']\n",
      "['ppython', 'ypython', 'tpython']\n",
      "['ppython', 'ypython', 'tpython', 'hpython']\n",
      "['ppython', 'ypython', 'tpython', 'hpython', 'opython']\n",
      "['ppython', 'ypython', 'tpython', 'hpython', 'opython', 'npython']\n"
     ]
    }
   ],
   "source": [
    "for i in [2,3,5,6,7]:\n",
    "    print(i)\n",
    "    \n",
    "a=list()\n",
    "for i in 'python':\n",
    "    a.append(i+'python')\n",
    "    print(a)"
   ]
  },
  {
   "cell_type": "code",
   "execution_count": 24,
   "metadata": {},
   "outputs": [
    {
     "name": "stdout",
     "output_type": "stream",
     "text": [
      "['ppython', 'ypython', 'tpython', 'hpython', 'opython', 'npython']\n"
     ]
    }
   ],
   "source": [
    "a=list()\n",
    "for i in 'python':\n",
    "    a.append(i+'python')\n",
    "print(a)"
   ]
  },
  {
   "cell_type": "code",
   "execution_count": 25,
   "metadata": {},
   "outputs": [
    {
     "data": {
      "text/plain": [
       "['ppython', 'ypython', 'tpython', 'hpython', 'opython', 'npython']"
      ]
     },
     "execution_count": 25,
     "metadata": {},
     "output_type": "execute_result"
    }
   ],
   "source": [
    "a=[i+'python' for i in 'python']\n",
    "a"
   ]
  },
  {
   "cell_type": "code",
   "execution_count": 26,
   "metadata": {},
   "outputs": [
    {
     "data": {
      "text/plain": [
       "[1, 4, 6]"
      ]
     },
     "execution_count": 26,
     "metadata": {},
     "output_type": "execute_result"
    }
   ],
   "source": [
    "list1=[2,10,34,3,10,20,10]\n",
    "[i for i in range(len(list1)) if list1[i]==10]"
   ]
  },
  {
   "cell_type": "markdown",
   "metadata": {},
   "source": [
    "# Section 6.3.2"
   ]
  },
  {
   "cell_type": "code",
   "execution_count": null,
   "metadata": {
    "collapsed": true
   },
   "outputs": [],
   "source": [
    "a=0\n",
    "while a<4:\n",
    "    a=a+1\n",
    "    print(a+26)\n",
    "print(a)"
   ]
  },
  {
   "cell_type": "markdown",
   "metadata": {},
   "source": [
    "# Section 6.3.3"
   ]
  },
  {
   "cell_type": "code",
   "execution_count": 29,
   "metadata": {},
   "outputs": [
    {
     "name": "stdout",
     "output_type": "stream",
     "text": [
      "[['a', 2], ['a', 3], ['b', 2], ['b', 3], ['c', 2], ['c', 3]]\n"
     ]
    }
   ],
   "source": [
    "x=['a','b','c']\n",
    "y=[2,3]\n",
    "z=[]\n",
    "for i in x:\n",
    "    for j in y:\n",
    "        z.append([i,j])\n",
    "print(z)"
   ]
  },
  {
   "cell_type": "code",
   "execution_count": 28,
   "metadata": {},
   "outputs": [
    {
     "data": {
      "text/plain": [
       "[['a', 2], ['a', 3], ['b', 2], ['b', 3], ['c', 2], ['c', 3]]"
      ]
     },
     "execution_count": 28,
     "metadata": {},
     "output_type": "execute_result"
    }
   ],
   "source": [
    "[[i,j] for i in x for j in y]"
   ]
  },
  {
   "cell_type": "markdown",
   "metadata": {},
   "source": [
    "# Section 6.3.4"
   ]
  },
  {
   "cell_type": "markdown",
   "metadata": {},
   "source": [
    "# 跳出 for 循环"
   ]
  },
  {
   "cell_type": "code",
   "execution_count": 31,
   "metadata": {},
   "outputs": [
    {
     "name": "stdout",
     "output_type": "stream",
     "text": [
      "a\n",
      "b\n",
      "python\n"
     ]
    }
   ],
   "source": [
    "st1=['a','b','python','c','d']\n",
    "for i in st1:\n",
    "    print(i)\n",
    "    if i=='python':\n",
    "        break # 跳出 for 循环"
   ]
  },
  {
   "cell_type": "markdown",
   "metadata": {},
   "source": [
    "# 跳出 for 循环\n",
    "# 和 print(i) 语 句 缩 进 格 式 相 同 ， 属 于 同 级 关 系   "
   ]
  },
  {
   "cell_type": "code",
   "execution_count": 32,
   "metadata": {},
   "outputs": [
    {
     "name": "stdout",
     "output_type": "stream",
     "text": [
      "a\n",
      "hello\n",
      "b\n",
      "hello\n",
      "python\n"
     ]
    }
   ],
   "source": [
    "for i in st1:\n",
    "    print(i)\n",
    "    if i=='python':\n",
    "        break # 跳出 for 循环\n",
    "    print('hello') #和 print(i) 语 句 缩 进 格 式 相 同 ， 属 于 同 级 关 系\n",
    "    \n"
   ]
  },
  {
   "cell_type": "markdown",
   "metadata": {},
   "source": [
    "# 跳出 for 循环\n",
    "# 缩 进 和 for 所 在 行 相 同 ， 在 for 循 环 结 束 以 后 总 会 执 行 该 代 码"
   ]
  },
  {
   "cell_type": "code",
   "execution_count": 33,
   "metadata": {},
   "outputs": [
    {
     "name": "stdout",
     "output_type": "stream",
     "text": [
      "a\n",
      "b\n",
      "python\n",
      "hello\n"
     ]
    }
   ],
   "source": [
    "for i in st1:\n",
    "    print(i)\n",
    "    if i=='python':\n",
    "        break # 跳出 for 循环\n",
    "print('hello') # 缩 进 和 for 所 在 行 相 同 ， 在 for 循 环 结 束 以 后 总 会 执 行 该 代 码"
   ]
  },
  {
   "cell_type": "markdown",
   "metadata": {},
   "source": [
    "# 停 止 执 行 当 前 循 环 语 句 中 的 内 容 ， 并 进 入 下 一 次 循 环\n",
    "# 在 for 循 环 语 句 内 部\n",
    "# 和 print(i) 语 句 缩 进 格 式 相 同 ， 属 于 同 级 关 系"
   ]
  },
  {
   "cell_type": "code",
   "execution_count": 34,
   "metadata": {},
   "outputs": [
    {
     "name": "stdout",
     "output_type": "stream",
     "text": [
      "a\n",
      "b\n",
      "c\n",
      "d\n",
      "hello\n"
     ]
    }
   ],
   "source": [
    "for i in st1:\n",
    "    if i=='python':\n",
    "        continue # 停 止 执 行 当 前 循 环 语 句 中 的 内 容 ， 并 进 入 下 一 次 循 环\n",
    "    print(i) #在 for 循 环 语 句 内 部\n",
    "print('hello') #和 print(i) 语 句 缩 进 格 式 相 同 ， 属 于 同 级 关 系"
   ]
  },
  {
   "cell_type": "markdown",
   "metadata": {},
   "source": [
    "# 停 止 执 行 当 前 循 环 语 句 中 的 内 容 ， 并 进 入 下 一 次 循 环\n",
    "# 在 for 循 环 语 句 内 部\n",
    "# 在 for 循 环 内 部"
   ]
  },
  {
   "cell_type": "code",
   "execution_count": 35,
   "metadata": {},
   "outputs": [
    {
     "name": "stdout",
     "output_type": "stream",
     "text": [
      "a\n",
      "hello\n",
      "b\n",
      "hello\n",
      "c\n",
      "hello\n",
      "d\n",
      "hello\n"
     ]
    }
   ],
   "source": [
    "for i in st1:\n",
    "    if i=='python':\n",
    "        continue # 停 止 执 行 当 前 循 环 语 句 中 的 内 容 ， 并 进 入 下 一 次 循 环\n",
    "    print(i) #在 for 循 环 语 句 内 部\n",
    "    print('hello') #在 for 循 环 内 部"
   ]
  },
  {
   "cell_type": "markdown",
   "metadata": {},
   "source": [
    "# 在 for 循 环 内 部"
   ]
  },
  {
   "cell_type": "code",
   "execution_count": 36,
   "metadata": {},
   "outputs": [
    {
     "name": "stdout",
     "output_type": "stream",
     "text": [
      "a\n",
      "b\n",
      "python\n",
      "c\n",
      "d\n",
      "hello\n"
     ]
    }
   ],
   "source": [
    "for i in st1:\n",
    "    print(i) \n",
    "    if i=='python':\n",
    "        continue     \n",
    "print('hello') #在 for 循 环 内 部"
   ]
  },
  {
   "cell_type": "markdown",
   "metadata": {},
   "source": [
    "# 在 for 循 环 的 if 语 句 内 部 ， 位于 continue 下方 ， 永 远 不 会 被 执 行"
   ]
  },
  {
   "cell_type": "code",
   "execution_count": 37,
   "metadata": {},
   "outputs": [
    {
     "name": "stdout",
     "output_type": "stream",
     "text": [
      "hello\n"
     ]
    }
   ],
   "source": [
    "for i in st1:\n",
    "    if i=='python':\n",
    "        continue\n",
    "        print(i) #在 for 循 环 的 if 语 句 内 部 ， 位于 continue 下方 ， 永 远 不 会 被 执 行\n",
    "print('hello')"
   ]
  },
  {
   "cell_type": "code",
   "execution_count": 38,
   "metadata": {},
   "outputs": [
    {
     "name": "stdout",
     "output_type": "stream",
     "text": [
      "[0, 1]\n",
      "[1, 2]\n",
      "[2, 3]\n",
      "[3, 4]\n",
      "[4, 5]\n"
     ]
    }
   ],
   "source": [
    "for i in range(5):\n",
    "    if i>3:\n",
    "        pass\n",
    "    print([i,i+1])"
   ]
  },
  {
   "cell_type": "markdown",
   "metadata": {},
   "source": [
    "# 1、使用if...else语句编写函数，若输入值为奇数，返回其本身；输入为偶数，返回0；输入值不是整数；打印“ERROR:Please input an integer.”"
   ]
  },
  {
   "cell_type": "code",
   "execution_count": 41,
   "metadata": {},
   "outputs": [
    {
     "data": {
      "text/plain": [
       "7"
      ]
     },
     "execution_count": 41,
     "metadata": {},
     "output_type": "execute_result"
    }
   ],
   "source": [
    "def is_odd(i):\n",
    "    if type(i) == int:\n",
    "        return(i if i%2==1 else 0)\n",
    "    else:\n",
    "        print('ERROR：Please input an integer.')\n",
    "is_odd(7)"
   ]
  },
  {
   "cell_type": "markdown",
   "metadata": {},
   "source": [
    "# 2、随机产生5个数字，若大等于0，打印“Big”；若小于0，打印“Small”"
   ]
  },
  {
   "cell_type": "code",
   "execution_count": 42,
   "metadata": {},
   "outputs": [
    {
     "name": "stdout",
     "output_type": "stream",
     "text": [
      "Small\n",
      "Small\n",
      "Small\n",
      "Small\n",
      "Big\n"
     ]
    }
   ],
   "source": [
    "import random\n",
    "a=[random.normalvariate(0,1) for i in range(5)]\n",
    "for j in a:\n",
    "    if j>=0:\n",
    "        print('Big')\n",
    "    else:\n",
    "        print('Small')"
   ]
  },
  {
   "cell_type": "markdown",
   "metadata": {},
   "source": [
    "# 3、利用列表、循环语句及判断语句模拟5*5，对角元素为1的对角矩阵"
   ]
  },
  {
   "cell_type": "code",
   "execution_count": 43,
   "metadata": {},
   "outputs": [
    {
     "data": {
      "text/plain": [
       "[[1, 0, 0, 0, 0],\n",
       " [0, 1, 0, 0, 0],\n",
       " [0, 0, 1, 0, 0],\n",
       " [0, 0, 0, 1, 0],\n",
       " [0, 0, 0, 0, 1]]"
      ]
     },
     "execution_count": 43,
     "metadata": {},
     "output_type": "execute_result"
    }
   ],
   "source": [
    "I = []\n",
    "for i in range(5):\n",
    "    row = [0 for j in range(5)]\n",
    "    row[i] = 1\n",
    "    I.append(row)\n",
    "I \n",
    "  \n"
   ]
  },
  {
   "cell_type": "markdown",
   "metadata": {},
   "source": [
    "# 4、使用for循环检查向量（-1,0,1,2,39）是否和向量（1:4）有重合"
   ]
  },
  {
   "cell_type": "code",
   "execution_count": 45,
   "metadata": {},
   "outputs": [
    {
     "name": "stdout",
     "output_type": "stream",
     "text": [
      "False\n",
      "False\n",
      "True\n",
      "True\n",
      "False\n"
     ]
    }
   ],
   "source": [
    "for i in (-1,0,1,2,39):\n",
    "    print(i in range(1,5))"
   ]
  },
  {
   "cell_type": "markdown",
   "metadata": {},
   "source": [
    "# 5、利用for循环语句构造一个4阶的希尔伯特矩阵（其第i横行第j纵列的系数是1/(i+j+1)）"
   ]
  },
  {
   "cell_type": "code",
   "execution_count": 46,
   "metadata": {},
   "outputs": [
    {
     "data": {
      "text/plain": [
       "[[1.0, 0.5, 0.3333333333333333, 0.25],\n",
       " [0.5, 0.3333333333333333, 0.25, 0.2],\n",
       " [0.3333333333333333, 0.25, 0.2, 0.16666666666666666],\n",
       " [0.25, 0.2, 0.16666666666666666, 0.14285714285714285]]"
      ]
     },
     "execution_count": 46,
     "metadata": {},
     "output_type": "execute_result"
    }
   ],
   "source": [
    "Hilbert = []\n",
    "for i in range(4):\n",
    "    Hilbert.append([])\n",
    "    for j in range(4):\n",
    "        Hilbert[i].append(1/(i+j+1))\n",
    "Hilbert"
   ]
  },
  {
   "cell_type": "code",
   "execution_count": null,
   "metadata": {
    "collapsed": true
   },
   "outputs": [],
   "source": []
  }
 ],
 "metadata": {
  "kernelspec": {
   "display_name": "Python 3",
   "language": "python",
   "name": "python3"
  },
  "language_info": {
   "codemirror_mode": {
    "name": "ipython",
    "version": 3
   },
   "file_extension": ".py",
   "mimetype": "text/x-python",
   "name": "python",
   "nbconvert_exporter": "python",
   "pygments_lexer": "ipython3",
   "version": "3.6.3"
  }
 },
 "nbformat": 4,
 "nbformat_minor": 2
}
