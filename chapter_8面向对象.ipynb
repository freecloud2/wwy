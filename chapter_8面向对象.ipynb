{
 "cells": [
  {
   "cell_type": "code",
   "execution_count": 1,
   "metadata": {
    "collapsed": true
   },
   "outputs": [],
   "source": [
    "class Asset(object):\n",
    "    \"\"\"\n",
    "    Asset class with specified attributes \"id\" and \"price\".\n",
    "    \"\"\"\n",
    "    \n",
    "    def __init__(self, id, price):\n",
    "        self.id = id\n",
    "        self.price = price\n",
    "        \n",
    "    def print_id(self):\n",
    "        print(\"The ID of the asset is: %s\" %(self.id))"
   ]
  },
  {
   "cell_type": "markdown",
   "metadata": {},
   "source": [
    "# 1、编写一个银行账户类，该类具有用户名和余额两个属性，以及存款、取款的方法\n",
    "# ①创建一个该类对象，用户名为Sam，余额为1000元；\n",
    "# ②存入500元，再取出1200元；\n",
    "# ③查询余额；\n",
    "# ④将余额属性改为私有属性，并定义获取该属性及修改该属性的方法"
   ]
  },
  {
   "cell_type": "code",
   "execution_count": 13,
   "metadata": {},
   "outputs": [],
   "source": [
    "class account:\n",
    "    def __init__(self,name,balance):\n",
    "        self.name=name\n",
    "        self.balance=balance\n",
    "    \n",
    "    def deposit(self,amount):\n",
    "        self.balance += amount\n",
    "    \n",
    "    def withdraw(self,amount):\n",
    "        if amount>self.balance:\n",
    "            print('余额不足，交易失败')\n",
    "        else:\n",
    "            self.balance -= amount\n"
   ]
  },
  {
   "cell_type": "code",
   "execution_count": 14,
   "metadata": {
    "collapsed": true
   },
   "outputs": [],
   "source": [
    "sam = account('Sam',1000)"
   ]
  },
  {
   "cell_type": "code",
   "execution_count": 15,
   "metadata": {
    "collapsed": true
   },
   "outputs": [],
   "source": [
    "sam.deposit(500)"
   ]
  },
  {
   "cell_type": "code",
   "execution_count": 16,
   "metadata": {},
   "outputs": [
    {
     "data": {
      "text/plain": [
       "300"
      ]
     },
     "execution_count": 16,
     "metadata": {},
     "output_type": "execute_result"
    }
   ],
   "source": [
    "sam.withdraw(1200)\n",
    "sam.balance"
   ]
  },
  {
   "cell_type": "code",
   "execution_count": 17,
   "metadata": {
    "collapsed": true
   },
   "outputs": [],
   "source": [
    "class account:\n",
    "    def __init__(self,name,balance):\n",
    "        self.name=name\n",
    "        self.__balance=balance\n",
    "        \n",
    "    def deposit(self,amount):\n",
    "        self.__balance += amount\n",
    "    \n",
    "    def withdraw(self,amount):\n",
    "        if amount>self.balance:\n",
    "            print('余额不足，交易失败')\n",
    "        else:\n",
    "            self.__balance -= amount\n",
    "    \n",
    "    def get_balance(self):\n",
    "        return(self.__balance)\n",
    "        \n",
    "    def set_balance(self,amount):\n",
    "        self.__balance = amount"
   ]
  },
  {
   "cell_type": "markdown",
   "metadata": {},
   "source": [
    "# 2、创建一个银行账户类对象，用户名为John，余额为3000元，然后向Sam转账1000元"
   ]
  },
  {
   "cell_type": "code",
   "execution_count": 20,
   "metadata": {
    "collapsed": true
   },
   "outputs": [],
   "source": [
    "class account:\n",
    "    def __init__(self,name,balance):\n",
    "        self.name=name\n",
    "        self.__balance=balance\n",
    "    \n",
    "    def deposit(self,amount):\n",
    "        self.__balance += amount\n",
    "    \n",
    "    def withdraw(self,amount):\n",
    "        if amount>self.__balance:\n",
    "            print('余额不足，交易失败')\n",
    "        else:\n",
    "            self.__balance -= amount\n",
    "    \n",
    "    def get_balance(self):\n",
    "        return(self.__balance)\n",
    "        \n",
    "    def set_balance(self,amount):\n",
    "        self.__balance = amount\n",
    "        \n",
    "    def transfer(self,amount,target):\n",
    "        if amount>self.__balance:\n",
    "            print('余额不足，交易失败')\n",
    "        else:\n",
    "            target.deposit(amount)\n",
    "            self.withdraw(amount)"
   ]
  },
  {
   "cell_type": "code",
   "execution_count": 21,
   "metadata": {
    "collapsed": true
   },
   "outputs": [],
   "source": [
    "sam = account('Sam',1000)"
   ]
  },
  {
   "cell_type": "code",
   "execution_count": 23,
   "metadata": {},
   "outputs": [],
   "source": [
    "john = account('John',3000)\n",
    "john.transfer(1000,sam)"
   ]
  },
  {
   "cell_type": "markdown",
   "metadata": {},
   "source": [
    "# 3、创建一个信用卡账户类，该类为银行账户类的子类。除了银行账户类的属性外，该类还有信用额度属性，以及透支额度属性。此外，该类需要重写父类的取款方法，该方法在取款额超过账户余额且两者的差值不超过信用额度时，会修改透支额度属性；而当差值超过信用额度时则会提示交易失败。创建一个信用卡账户类对象，用户名为Sam，余额为1000元，信用额度为1000元。先取出700元，再取出1500元，查看结果。"
   ]
  },
  {
   "cell_type": "code",
   "execution_count": 24,
   "metadata": {
    "collapsed": true
   },
   "outputs": [],
   "source": [
    "class check(account):\n",
    "    \n",
    "    def __init__(self,name,balance,credit):\n",
    "        self.name = name\n",
    "        self.__balance = balance\n",
    "        self.credit = credit\n",
    "        self.overdraft = 0\n",
    "        \n",
    "    def deposit(self,amount):\n",
    "        if self.overdraft > 0 and self.overdraft-amount < 0:\n",
    "            self.__balance = amount - self.overdraft\n",
    "            self.overdraft = 0\n",
    "        elif self.overdraft > 0:\n",
    "            self.overdraft -= amount\n",
    "        else:\n",
    "            self.__balance += amount\n",
    "    \n",
    "    def withdraw(self,amount):\n",
    "        if self.__balance==0 and amount + self.overdraft > self.credit:\n",
    "            print('超出信用額度，交易失败')\n",
    "            return(1)\n",
    "        elif self.__balance==0:\n",
    "            self.__overdraft += amount\n",
    "            return(0)\n",
    "        elif 0 < self.__balance < amount and amount - self.__balance <=self.credit:\n",
    "            self.overdraft = amount - self.__balance\n",
    "            self.__balance=0\n",
    "            return(0)\n",
    "        elif 0 < self.__balance < amount:\n",
    "            print('超出信用額度，交易失败')\n",
    "            return(1)\n",
    "        else:\n",
    "            self.__balance -= amount\n",
    "            return(0)\n",
    "        \n",
    "    def transfer(self,amount,target):\n",
    "        result = self.withdraw(amount)\n",
    "        if result == 0:\n",
    "            target.deposit(amount)"
   ]
  },
  {
   "cell_type": "code",
   "execution_count": 25,
   "metadata": {},
   "outputs": [],
   "source": [
    "sam = check('Sam',1000,1000)"
   ]
  },
  {
   "cell_type": "code",
   "execution_count": 26,
   "metadata": {},
   "outputs": [
    {
     "data": {
      "text/plain": [
       "0"
      ]
     },
     "execution_count": 26,
     "metadata": {},
     "output_type": "execute_result"
    }
   ],
   "source": [
    "sam.withdraw(700)"
   ]
  },
  {
   "cell_type": "code",
   "execution_count": 28,
   "metadata": {},
   "outputs": [
    {
     "name": "stdout",
     "output_type": "stream",
     "text": [
      "超出信用額度，交易失败\n"
     ]
    },
    {
     "data": {
      "text/plain": [
       "1"
      ]
     },
     "execution_count": 28,
     "metadata": {},
     "output_type": "execute_result"
    }
   ],
   "source": [
    "sam.withdraw(1500)"
   ]
  },
  {
   "cell_type": "code",
   "execution_count": null,
   "metadata": {
    "collapsed": true
   },
   "outputs": [],
   "source": []
  }
 ],
 "metadata": {
  "kernelspec": {
   "display_name": "Python 3",
   "language": "python",
   "name": "python3"
  },
  "language_info": {
   "codemirror_mode": {
    "name": "ipython",
    "version": 3
   },
   "file_extension": ".py",
   "mimetype": "text/x-python",
   "name": "python",
   "nbconvert_exporter": "python",
   "pygments_lexer": "ipython3",
   "version": "3.6.3"
  }
 },
 "nbformat": 4,
 "nbformat_minor": 2
}
