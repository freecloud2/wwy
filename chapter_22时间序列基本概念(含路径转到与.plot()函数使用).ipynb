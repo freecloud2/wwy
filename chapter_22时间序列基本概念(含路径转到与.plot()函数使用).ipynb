{
 "cells": [
  {
   "cell_type": "markdown",
   "metadata": {},
   "source": [
    "# 路径转到(此法可以节省空间)"
   ]
  },
  {
   "cell_type": "code",
   "execution_count": 59,
   "metadata": {
    "collapsed": true
   },
   "outputs": [],
   "source": [
    "import os\n",
    "os.chdir('G:\\\\freecloud\\\\ThinkpadC_space\\\\Desktop\\\\资料\\\\资料\\\\量化投资：以Python为工具\\\\Python Quant Book\\\\part 4\\\\022')"
   ]
  },
  {
   "cell_type": "code",
   "execution_count": 60,
   "metadata": {
    "collapsed": true
   },
   "outputs": [],
   "source": [
    "import pandas as pd\n",
    "Index=pd.read_table('TRD_Index.txt',sep='\\t',index_col='Trddt')\n",
    "SHindex=Index[Index.Indexcd==1]"
   ]
  },
  {
   "cell_type": "markdown",
   "metadata": {},
   "source": [
    "# 查看前3期数据"
   ]
  },
  {
   "cell_type": "code",
   "execution_count": 4,
   "metadata": {},
   "outputs": [
    {
     "data": {
      "text/html": [
       "<div>\n",
       "<style>\n",
       "    .dataframe thead tr:only-child th {\n",
       "        text-align: right;\n",
       "    }\n",
       "\n",
       "    .dataframe thead th {\n",
       "        text-align: left;\n",
       "    }\n",
       "\n",
       "    .dataframe tbody tr th {\n",
       "        vertical-align: top;\n",
       "    }\n",
       "</style>\n",
       "<table border=\"1\" class=\"dataframe\">\n",
       "  <thead>\n",
       "    <tr style=\"text-align: right;\">\n",
       "      <th></th>\n",
       "      <th>Indexcd</th>\n",
       "      <th>Daywk</th>\n",
       "      <th>Opnindex</th>\n",
       "      <th>Hiindex</th>\n",
       "      <th>Loindex</th>\n",
       "      <th>Clsindex</th>\n",
       "      <th>Retindex</th>\n",
       "    </tr>\n",
       "    <tr>\n",
       "      <th>Trddt</th>\n",
       "      <th></th>\n",
       "      <th></th>\n",
       "      <th></th>\n",
       "      <th></th>\n",
       "      <th></th>\n",
       "      <th></th>\n",
       "      <th></th>\n",
       "    </tr>\n",
       "  </thead>\n",
       "  <tbody>\n",
       "    <tr>\n",
       "      <th>2014/1/2</th>\n",
       "      <td>1</td>\n",
       "      <td>4</td>\n",
       "      <td>2112.126</td>\n",
       "      <td>2113.110</td>\n",
       "      <td>2101.016</td>\n",
       "      <td>2109.387</td>\n",
       "      <td>-0.003115</td>\n",
       "    </tr>\n",
       "    <tr>\n",
       "      <th>2014/1/3</th>\n",
       "      <td>1</td>\n",
       "      <td>5</td>\n",
       "      <td>2101.542</td>\n",
       "      <td>2102.167</td>\n",
       "      <td>2075.899</td>\n",
       "      <td>2083.136</td>\n",
       "      <td>-0.012445</td>\n",
       "    </tr>\n",
       "    <tr>\n",
       "      <th>2014/1/6</th>\n",
       "      <td>1</td>\n",
       "      <td>1</td>\n",
       "      <td>2078.684</td>\n",
       "      <td>2078.684</td>\n",
       "      <td>2034.006</td>\n",
       "      <td>2045.709</td>\n",
       "      <td>-0.017967</td>\n",
       "    </tr>\n",
       "  </tbody>\n",
       "</table>\n",
       "</div>"
      ],
      "text/plain": [
       "          Indexcd  Daywk  Opnindex   Hiindex   Loindex  Clsindex  Retindex\n",
       "Trddt                                                                     \n",
       "2014/1/2        1      4  2112.126  2113.110  2101.016  2109.387 -0.003115\n",
       "2014/1/3        1      5  2101.542  2102.167  2075.899  2083.136 -0.012445\n",
       "2014/1/6        1      1  2078.684  2078.684  2034.006  2045.709 -0.017967"
      ]
     },
     "execution_count": 4,
     "metadata": {},
     "output_type": "execute_result"
    }
   ],
   "source": [
    "SHindex.head(n=3)"
   ]
  },
  {
   "cell_type": "markdown",
   "metadata": {},
   "source": [
    "# 查看数据SHindex的类型"
   ]
  },
  {
   "cell_type": "code",
   "execution_count": 5,
   "metadata": {},
   "outputs": [
    {
     "data": {
      "text/plain": [
       "pandas.core.frame.DataFrame"
      ]
     },
     "execution_count": 5,
     "metadata": {},
     "output_type": "execute_result"
    }
   ],
   "source": [
    "type(SHindex)"
   ]
  },
  {
   "cell_type": "markdown",
   "metadata": {},
   "source": [
    "# 提取上证综指的收盘指数数据"
   ]
  },
  {
   "cell_type": "code",
   "execution_count": 6,
   "metadata": {
    "collapsed": true
   },
   "outputs": [],
   "source": [
    "Clsindex=SHindex.Clsindex"
   ]
  },
  {
   "cell_type": "code",
   "execution_count": 7,
   "metadata": {},
   "outputs": [
    {
     "data": {
      "text/plain": [
       "Trddt\n",
       "2014/1/2    2109.387\n",
       "2014/1/3    2083.136\n",
       "2014/1/6    2045.709\n",
       "Name: Clsindex, dtype: float64"
      ]
     },
     "execution_count": 7,
     "metadata": {},
     "output_type": "execute_result"
    }
   ],
   "source": [
    "Clsindex.head(n=3)"
   ]
  },
  {
   "cell_type": "code",
   "execution_count": 8,
   "metadata": {},
   "outputs": [
    {
     "data": {
      "text/plain": [
       "pandas.core.series.Series"
      ]
     },
     "execution_count": 8,
     "metadata": {},
     "output_type": "execute_result"
    }
   ],
   "source": [
    "type(Clsindex)"
   ]
  },
  {
   "cell_type": "code",
   "execution_count": 9,
   "metadata": {},
   "outputs": [
    {
     "data": {
      "text/plain": [
       "pandas.core.indexes.base.Index"
      ]
     },
     "execution_count": 9,
     "metadata": {},
     "output_type": "execute_result"
    }
   ],
   "source": [
    "type(Clsindex.index)"
   ]
  },
  {
   "cell_type": "markdown",
   "metadata": {},
   "source": [
    "# 将收盘指数转换成时间序列格式"
   ]
  },
  {
   "cell_type": "code",
   "execution_count": 10,
   "metadata": {},
   "outputs": [
    {
     "data": {
      "text/plain": [
       "Trddt\n",
       "2014-01-02    2109.387\n",
       "2014-01-03    2083.136\n",
       "2014-01-06    2045.709\n",
       "2014-01-07    2047.317\n",
       "2014-01-08    2044.340\n",
       "Name: Clsindex, dtype: float64"
      ]
     },
     "execution_count": 10,
     "metadata": {},
     "output_type": "execute_result"
    }
   ],
   "source": [
    "Clsindex.index=pd.to_datetime(Clsindex.index)\n",
    "Clsindex.head()"
   ]
  },
  {
   "cell_type": "markdown",
   "metadata": {},
   "source": [
    "# 查看Clsindex的类型"
   ]
  },
  {
   "cell_type": "code",
   "execution_count": 11,
   "metadata": {},
   "outputs": [
    {
     "data": {
      "text/plain": [
       "pandas.core.series.Series"
      ]
     },
     "execution_count": 11,
     "metadata": {},
     "output_type": "execute_result"
    }
   ],
   "source": [
    "type(Clsindex)"
   ]
  },
  {
   "cell_type": "markdown",
   "metadata": {},
   "source": [
    "# Clsindex的index是日期数据"
   ]
  },
  {
   "cell_type": "code",
   "execution_count": 12,
   "metadata": {},
   "outputs": [
    {
     "data": {
      "text/plain": [
       "pandas.core.indexes.datetimes.DatetimeIndex"
      ]
     },
     "execution_count": 12,
     "metadata": {},
     "output_type": "execute_result"
    }
   ],
   "source": [
    "type(Clsindex.index)"
   ]
  },
  {
   "cell_type": "code",
   "execution_count": 14,
   "metadata": {
    "collapsed": true
   },
   "outputs": [],
   "source": [
    "import matplotlib.pyplot as plt \n",
    "import matplotlib"
   ]
  },
  {
   "cell_type": "markdown",
   "metadata": {},
   "source": [
    "# 最后，绘制时间序列图"
   ]
  },
  {
   "cell_type": "code",
   "execution_count": 17,
   "metadata": {},
   "outputs": [
    {
     "data": {
      "text/plain": [
       "<matplotlib.axes._subplots.AxesSubplot at 0x9b724b0>"
      ]
     },
     "execution_count": 17,
     "metadata": {},
     "output_type": "execute_result"
    },
    {
     "data": {
      "image/png": "[encoded data removed]",
      "text/plain": [
       "<matplotlib.figure.Figure at 0x9b07e70>"
      ]
     },
     "metadata": {},
     "output_type": "display_data"
    }
   ],
   "source": [
    "%matplotlib inline\n",
    "matplotlib.rcParams['axes.unicode_minus']=False\n",
    "plt.rc('font', family='SimHei', size=18)\n",
    "plt.figure(figsize=(14,10)) \n",
    "Clsindex.plot()"
   ]
  },
  {
   "cell_type": "markdown",
   "metadata": {},
   "source": [
    "# 截取2014年10月8日到10月31日的数据"
   ]
  },
  {
   "cell_type": "code",
   "execution_count": 18,
   "metadata": {
    "collapsed": true
   },
   "outputs": [],
   "source": [
    "SHindex.index=pd.to_datetime(SHindex.index)\n",
    "SHindexPart=SHindex['2014-10-08':'2014-10-31']"
   ]
  },
  {
   "cell_type": "markdown",
   "metadata": {},
   "source": [
    "# 查看前两期数据"
   ]
  },
  {
   "cell_type": "code",
   "execution_count": 19,
   "metadata": {},
   "outputs": [
    {
     "data": {
      "text/html": [
       "<div>\n",
       "<style>\n",
       "    .dataframe thead tr:only-child th {\n",
       "        text-align: right;\n",
       "    }\n",
       "\n",
       "    .dataframe thead th {\n",
       "        text-align: left;\n",
       "    }\n",
       "\n",
       "    .dataframe tbody tr th {\n",
       "        vertical-align: top;\n",
       "    }\n",
       "</style>\n",
       "<table border=\"1\" class=\"dataframe\">\n",
       "  <thead>\n",
       "    <tr style=\"text-align: right;\">\n",
       "      <th></th>\n",
       "      <th>Indexcd</th>\n",
       "      <th>Daywk</th>\n",
       "      <th>Opnindex</th>\n",
       "      <th>Hiindex</th>\n",
       "      <th>Loindex</th>\n",
       "      <th>Clsindex</th>\n",
       "      <th>Retindex</th>\n",
       "    </tr>\n",
       "    <tr>\n",
       "      <th>Trddt</th>\n",
       "      <th></th>\n",
       "      <th></th>\n",
       "      <th></th>\n",
       "      <th></th>\n",
       "      <th></th>\n",
       "      <th></th>\n",
       "      <th></th>\n",
       "    </tr>\n",
       "  </thead>\n",
       "  <tbody>\n",
       "    <tr>\n",
       "      <th>2014-10-08</th>\n",
       "      <td>1</td>\n",
       "      <td>3</td>\n",
       "      <td>2368.576</td>\n",
       "      <td>2382.794</td>\n",
       "      <td>2354.290</td>\n",
       "      <td>2382.794</td>\n",
       "      <td>0.008006</td>\n",
       "    </tr>\n",
       "    <tr>\n",
       "      <th>2014-10-09</th>\n",
       "      <td>1</td>\n",
       "      <td>4</td>\n",
       "      <td>2383.859</td>\n",
       "      <td>2391.348</td>\n",
       "      <td>2367.111</td>\n",
       "      <td>2389.371</td>\n",
       "      <td>0.002760</td>\n",
       "    </tr>\n",
       "  </tbody>\n",
       "</table>\n",
       "</div>"
      ],
      "text/plain": [
       "            Indexcd  Daywk  Opnindex   Hiindex   Loindex  Clsindex  Retindex\n",
       "Trddt                                                                       \n",
       "2014-10-08        1      3  2368.576  2382.794  2354.290  2382.794  0.008006\n",
       "2014-10-09        1      4  2383.859  2391.348  2367.111  2389.371  0.002760"
      ]
     },
     "execution_count": 19,
     "metadata": {},
     "output_type": "execute_result"
    }
   ],
   "source": [
    "SHindexPart.head(n=2)"
   ]
  },
  {
   "cell_type": "markdown",
   "metadata": {},
   "source": [
    "# 查看后两个交易数据"
   ]
  },
  {
   "cell_type": "code",
   "execution_count": 20,
   "metadata": {},
   "outputs": [
    {
     "data": {
      "text/html": [
       "<div>\n",
       "<style>\n",
       "    .dataframe thead tr:only-child th {\n",
       "        text-align: right;\n",
       "    }\n",
       "\n",
       "    .dataframe thead th {\n",
       "        text-align: left;\n",
       "    }\n",
       "\n",
       "    .dataframe tbody tr th {\n",
       "        vertical-align: top;\n",
       "    }\n",
       "</style>\n",
       "<table border=\"1\" class=\"dataframe\">\n",
       "  <thead>\n",
       "    <tr style=\"text-align: right;\">\n",
       "      <th></th>\n",
       "      <th>Indexcd</th>\n",
       "      <th>Daywk</th>\n",
       "      <th>Opnindex</th>\n",
       "      <th>Hiindex</th>\n",
       "      <th>Loindex</th>\n",
       "      <th>Clsindex</th>\n",
       "      <th>Retindex</th>\n",
       "    </tr>\n",
       "    <tr>\n",
       "      <th>Trddt</th>\n",
       "      <th></th>\n",
       "      <th></th>\n",
       "      <th></th>\n",
       "      <th></th>\n",
       "      <th></th>\n",
       "      <th></th>\n",
       "      <th></th>\n",
       "    </tr>\n",
       "  </thead>\n",
       "  <tbody>\n",
       "    <tr>\n",
       "      <th>2014-10-30</th>\n",
       "      <td>1</td>\n",
       "      <td>4</td>\n",
       "      <td>2371.891</td>\n",
       "      <td>2397.256</td>\n",
       "      <td>2365.919</td>\n",
       "      <td>2391.076</td>\n",
       "      <td>0.007605</td>\n",
       "    </tr>\n",
       "    <tr>\n",
       "      <th>2014-10-31</th>\n",
       "      <td>1</td>\n",
       "      <td>5</td>\n",
       "      <td>2393.178</td>\n",
       "      <td>2423.596</td>\n",
       "      <td>2384.483</td>\n",
       "      <td>2420.178</td>\n",
       "      <td>0.012171</td>\n",
       "    </tr>\n",
       "  </tbody>\n",
       "</table>\n",
       "</div>"
      ],
      "text/plain": [
       "            Indexcd  Daywk  Opnindex   Hiindex   Loindex  Clsindex  Retindex\n",
       "Trddt                                                                       \n",
       "2014-10-30        1      4  2371.891  2397.256  2365.919  2391.076  0.007605\n",
       "2014-10-31        1      5  2393.178  2423.596  2384.483  2420.178  0.012171"
      ]
     },
     "execution_count": 20,
     "metadata": {},
     "output_type": "execute_result"
    }
   ],
   "source": [
    "SHindexPart.tail(n=2)"
   ]
  },
  {
   "cell_type": "markdown",
   "metadata": {
    "collapsed": true
   },
   "source": [
    "# 截取2015年数据"
   ]
  },
  {
   "cell_type": "code",
   "execution_count": 21,
   "metadata": {
    "collapsed": true
   },
   "outputs": [],
   "source": [
    "SHindex2015=SHindex['2015']"
   ]
  },
  {
   "cell_type": "markdown",
   "metadata": {},
   "source": [
    "# 查看2015年前2期交易数据"
   ]
  },
  {
   "cell_type": "code",
   "execution_count": 22,
   "metadata": {},
   "outputs": [
    {
     "data": {
      "text/html": [
       "<div>\n",
       "<style>\n",
       "    .dataframe thead tr:only-child th {\n",
       "        text-align: right;\n",
       "    }\n",
       "\n",
       "    .dataframe thead th {\n",
       "        text-align: left;\n",
       "    }\n",
       "\n",
       "    .dataframe tbody tr th {\n",
       "        vertical-align: top;\n",
       "    }\n",
       "</style>\n",
       "<table border=\"1\" class=\"dataframe\">\n",
       "  <thead>\n",
       "    <tr style=\"text-align: right;\">\n",
       "      <th></th>\n",
       "      <th>Indexcd</th>\n",
       "      <th>Daywk</th>\n",
       "      <th>Opnindex</th>\n",
       "      <th>Hiindex</th>\n",
       "      <th>Loindex</th>\n",
       "      <th>Clsindex</th>\n",
       "      <th>Retindex</th>\n",
       "    </tr>\n",
       "    <tr>\n",
       "      <th>Trddt</th>\n",
       "      <th></th>\n",
       "      <th></th>\n",
       "      <th></th>\n",
       "      <th></th>\n",
       "      <th></th>\n",
       "      <th></th>\n",
       "      <th></th>\n",
       "    </tr>\n",
       "  </thead>\n",
       "  <tbody>\n",
       "    <tr>\n",
       "      <th>2015-01-05</th>\n",
       "      <td>1</td>\n",
       "      <td>1</td>\n",
       "      <td>3258.627</td>\n",
       "      <td>3369.281</td>\n",
       "      <td>3253.883</td>\n",
       "      <td>3350.519</td>\n",
       "      <td>0.035813</td>\n",
       "    </tr>\n",
       "    <tr>\n",
       "      <th>2015-01-06</th>\n",
       "      <td>1</td>\n",
       "      <td>2</td>\n",
       "      <td>3330.799</td>\n",
       "      <td>3394.224</td>\n",
       "      <td>3303.184</td>\n",
       "      <td>3351.446</td>\n",
       "      <td>0.000277</td>\n",
       "    </tr>\n",
       "  </tbody>\n",
       "</table>\n",
       "</div>"
      ],
      "text/plain": [
       "            Indexcd  Daywk  Opnindex   Hiindex   Loindex  Clsindex  Retindex\n",
       "Trddt                                                                       \n",
       "2015-01-05        1      1  3258.627  3369.281  3253.883  3350.519  0.035813\n",
       "2015-01-06        1      2  3330.799  3394.224  3303.184  3351.446  0.000277"
      ]
     },
     "execution_count": 22,
     "metadata": {},
     "output_type": "execute_result"
    }
   ],
   "source": [
    "SHindex2015.head(n=2)"
   ]
  },
  {
   "cell_type": "markdown",
   "metadata": {},
   "source": [
    "# 查看后2期交易数据"
   ]
  },
  {
   "cell_type": "code",
   "execution_count": 23,
   "metadata": {},
   "outputs": [
    {
     "data": {
      "text/html": [
       "<div>\n",
       "<style>\n",
       "    .dataframe thead tr:only-child th {\n",
       "        text-align: right;\n",
       "    }\n",
       "\n",
       "    .dataframe thead th {\n",
       "        text-align: left;\n",
       "    }\n",
       "\n",
       "    .dataframe tbody tr th {\n",
       "        vertical-align: top;\n",
       "    }\n",
       "</style>\n",
       "<table border=\"1\" class=\"dataframe\">\n",
       "  <thead>\n",
       "    <tr style=\"text-align: right;\">\n",
       "      <th></th>\n",
       "      <th>Indexcd</th>\n",
       "      <th>Daywk</th>\n",
       "      <th>Opnindex</th>\n",
       "      <th>Hiindex</th>\n",
       "      <th>Loindex</th>\n",
       "      <th>Clsindex</th>\n",
       "      <th>Retindex</th>\n",
       "    </tr>\n",
       "    <tr>\n",
       "      <th>Trddt</th>\n",
       "      <th></th>\n",
       "      <th></th>\n",
       "      <th></th>\n",
       "      <th></th>\n",
       "      <th></th>\n",
       "      <th></th>\n",
       "      <th></th>\n",
       "    </tr>\n",
       "  </thead>\n",
       "  <tbody>\n",
       "    <tr>\n",
       "      <th>2015-04-13</th>\n",
       "      <td>1</td>\n",
       "      <td>1</td>\n",
       "      <td>4072.723</td>\n",
       "      <td>4128.072</td>\n",
       "      <td>4057.293</td>\n",
       "      <td>4121.715</td>\n",
       "      <td>0.021665</td>\n",
       "    </tr>\n",
       "    <tr>\n",
       "      <th>2015-04-14</th>\n",
       "      <td>1</td>\n",
       "      <td>2</td>\n",
       "      <td>4125.782</td>\n",
       "      <td>4168.346</td>\n",
       "      <td>4091.257</td>\n",
       "      <td>4135.565</td>\n",
       "      <td>0.003360</td>\n",
       "    </tr>\n",
       "  </tbody>\n",
       "</table>\n",
       "</div>"
      ],
      "text/plain": [
       "            Indexcd  Daywk  Opnindex   Hiindex   Loindex  Clsindex  Retindex\n",
       "Trddt                                                                       \n",
       "2015-04-13        1      1  4072.723  4128.072  4057.293  4121.715  0.021665\n",
       "2015-04-14        1      2  4125.782  4168.346  4091.257  4135.565  0.003360"
      ]
     },
     "execution_count": 23,
     "metadata": {},
     "output_type": "execute_result"
    }
   ],
   "source": [
    "SHindex2015.tail(n=2)"
   ]
  },
  {
   "cell_type": "markdown",
   "metadata": {},
   "source": [
    "# 选取2015年初以后的数据"
   ]
  },
  {
   "cell_type": "code",
   "execution_count": 24,
   "metadata": {
    "collapsed": true
   },
   "outputs": [],
   "source": [
    "SHindexAfter2015=SHindex['2015':]"
   ]
  },
  {
   "cell_type": "code",
   "execution_count": 25,
   "metadata": {},
   "outputs": [
    {
     "data": {
      "text/html": [
       "<div>\n",
       "<style>\n",
       "    .dataframe thead tr:only-child th {\n",
       "        text-align: right;\n",
       "    }\n",
       "\n",
       "    .dataframe thead th {\n",
       "        text-align: left;\n",
       "    }\n",
       "\n",
       "    .dataframe tbody tr th {\n",
       "        vertical-align: top;\n",
       "    }\n",
       "</style>\n",
       "<table border=\"1\" class=\"dataframe\">\n",
       "  <thead>\n",
       "    <tr style=\"text-align: right;\">\n",
       "      <th></th>\n",
       "      <th>Indexcd</th>\n",
       "      <th>Daywk</th>\n",
       "      <th>Opnindex</th>\n",
       "      <th>Hiindex</th>\n",
       "      <th>Loindex</th>\n",
       "      <th>Clsindex</th>\n",
       "      <th>Retindex</th>\n",
       "    </tr>\n",
       "    <tr>\n",
       "      <th>Trddt</th>\n",
       "      <th></th>\n",
       "      <th></th>\n",
       "      <th></th>\n",
       "      <th></th>\n",
       "      <th></th>\n",
       "      <th></th>\n",
       "      <th></th>\n",
       "    </tr>\n",
       "  </thead>\n",
       "  <tbody>\n",
       "    <tr>\n",
       "      <th>2015-01-05</th>\n",
       "      <td>1</td>\n",
       "      <td>1</td>\n",
       "      <td>3258.627</td>\n",
       "      <td>3369.281</td>\n",
       "      <td>3253.883</td>\n",
       "      <td>3350.519</td>\n",
       "      <td>0.035813</td>\n",
       "    </tr>\n",
       "    <tr>\n",
       "      <th>2015-01-06</th>\n",
       "      <td>1</td>\n",
       "      <td>2</td>\n",
       "      <td>3330.799</td>\n",
       "      <td>3394.224</td>\n",
       "      <td>3303.184</td>\n",
       "      <td>3351.446</td>\n",
       "      <td>0.000277</td>\n",
       "    </tr>\n",
       "  </tbody>\n",
       "</table>\n",
       "</div>"
      ],
      "text/plain": [
       "            Indexcd  Daywk  Opnindex   Hiindex   Loindex  Clsindex  Retindex\n",
       "Trddt                                                                       \n",
       "2015-01-05        1      1  3258.627  3369.281  3253.883  3350.519  0.035813\n",
       "2015-01-06        1      2  3330.799  3394.224  3303.184  3351.446  0.000277"
      ]
     },
     "execution_count": 25,
     "metadata": {},
     "output_type": "execute_result"
    }
   ],
   "source": [
    "SHindexAfter2015.head(n=2)"
   ]
  },
  {
   "cell_type": "markdown",
   "metadata": {},
   "source": [
    "# 选取2015年以前的数据"
   ]
  },
  {
   "cell_type": "code",
   "execution_count": 26,
   "metadata": {},
   "outputs": [
    {
     "data": {
      "text/html": [
       "<div>\n",
       "<style>\n",
       "    .dataframe thead tr:only-child th {\n",
       "        text-align: right;\n",
       "    }\n",
       "\n",
       "    .dataframe thead th {\n",
       "        text-align: left;\n",
       "    }\n",
       "\n",
       "    .dataframe tbody tr th {\n",
       "        vertical-align: top;\n",
       "    }\n",
       "</style>\n",
       "<table border=\"1\" class=\"dataframe\">\n",
       "  <thead>\n",
       "    <tr style=\"text-align: right;\">\n",
       "      <th></th>\n",
       "      <th>Indexcd</th>\n",
       "      <th>Daywk</th>\n",
       "      <th>Opnindex</th>\n",
       "      <th>Hiindex</th>\n",
       "      <th>Loindex</th>\n",
       "      <th>Clsindex</th>\n",
       "      <th>Retindex</th>\n",
       "    </tr>\n",
       "    <tr>\n",
       "      <th>Trddt</th>\n",
       "      <th></th>\n",
       "      <th></th>\n",
       "      <th></th>\n",
       "      <th></th>\n",
       "      <th></th>\n",
       "      <th></th>\n",
       "      <th></th>\n",
       "    </tr>\n",
       "  </thead>\n",
       "  <tbody>\n",
       "    <tr>\n",
       "      <th>2014-12-30</th>\n",
       "      <td>1</td>\n",
       "      <td>2</td>\n",
       "      <td>3160.801</td>\n",
       "      <td>3190.299</td>\n",
       "      <td>3130.353</td>\n",
       "      <td>3165.815</td>\n",
       "      <td>-0.000695</td>\n",
       "    </tr>\n",
       "    <tr>\n",
       "      <th>2014-12-31</th>\n",
       "      <td>1</td>\n",
       "      <td>3</td>\n",
       "      <td>3172.597</td>\n",
       "      <td>3239.357</td>\n",
       "      <td>3157.259</td>\n",
       "      <td>3234.677</td>\n",
       "      <td>0.021752</td>\n",
       "    </tr>\n",
       "  </tbody>\n",
       "</table>\n",
       "</div>"
      ],
      "text/plain": [
       "            Indexcd  Daywk  Opnindex   Hiindex   Loindex  Clsindex  Retindex\n",
       "Trddt                                                                       \n",
       "2014-12-30        1      2  3160.801  3190.299  3130.353  3165.815 -0.000695\n",
       "2014-12-31        1      3  3172.597  3239.357  3157.259  3234.677  0.021752"
      ]
     },
     "execution_count": 26,
     "metadata": {},
     "output_type": "execute_result"
    }
   ],
   "source": [
    "SHindexBefore2015=SHindex[:'2014-12-31']\n",
    "SHindexBefore2015.tail(n=2)"
   ]
  },
  {
   "cell_type": "markdown",
   "metadata": {},
   "source": [
    "# 选取2014年9月到年底的数据"
   ]
  },
  {
   "cell_type": "code",
   "execution_count": 27,
   "metadata": {},
   "outputs": [
    {
     "data": {
      "text/html": [
       "<div>\n",
       "<style>\n",
       "    .dataframe thead tr:only-child th {\n",
       "        text-align: right;\n",
       "    }\n",
       "\n",
       "    .dataframe thead th {\n",
       "        text-align: left;\n",
       "    }\n",
       "\n",
       "    .dataframe tbody tr th {\n",
       "        vertical-align: top;\n",
       "    }\n",
       "</style>\n",
       "<table border=\"1\" class=\"dataframe\">\n",
       "  <thead>\n",
       "    <tr style=\"text-align: right;\">\n",
       "      <th></th>\n",
       "      <th>Indexcd</th>\n",
       "      <th>Daywk</th>\n",
       "      <th>Opnindex</th>\n",
       "      <th>Hiindex</th>\n",
       "      <th>Loindex</th>\n",
       "      <th>Clsindex</th>\n",
       "      <th>Retindex</th>\n",
       "    </tr>\n",
       "    <tr>\n",
       "      <th>Trddt</th>\n",
       "      <th></th>\n",
       "      <th></th>\n",
       "      <th></th>\n",
       "      <th></th>\n",
       "      <th></th>\n",
       "      <th></th>\n",
       "      <th></th>\n",
       "    </tr>\n",
       "  </thead>\n",
       "  <tbody>\n",
       "    <tr>\n",
       "      <th>2014-09-01</th>\n",
       "      <td>1</td>\n",
       "      <td>1</td>\n",
       "      <td>2220.129</td>\n",
       "      <td>2236.286</td>\n",
       "      <td>2217.685</td>\n",
       "      <td>2235.511</td>\n",
       "      <td>0.008259</td>\n",
       "    </tr>\n",
       "    <tr>\n",
       "      <th>2014-09-02</th>\n",
       "      <td>1</td>\n",
       "      <td>2</td>\n",
       "      <td>2239.684</td>\n",
       "      <td>2267.509</td>\n",
       "      <td>2234.378</td>\n",
       "      <td>2266.046</td>\n",
       "      <td>0.013659</td>\n",
       "    </tr>\n",
       "  </tbody>\n",
       "</table>\n",
       "</div>"
      ],
      "text/plain": [
       "            Indexcd  Daywk  Opnindex   Hiindex   Loindex  Clsindex  Retindex\n",
       "Trddt                                                                       \n",
       "2014-09-01        1      1  2220.129  2236.286  2217.685  2235.511  0.008259\n",
       "2014-09-02        1      2  2239.684  2267.509  2234.378  2266.046  0.013659"
      ]
     },
     "execution_count": 27,
     "metadata": {},
     "output_type": "execute_result"
    }
   ],
   "source": [
    "SHindex9End=SHindex['2014-09':'2014']\n",
    "SHindex9End.head(n=2)"
   ]
  },
  {
   "cell_type": "code",
   "execution_count": 28,
   "metadata": {},
   "outputs": [
    {
     "data": {
      "text/html": [
       "<div>\n",
       "<style>\n",
       "    .dataframe thead tr:only-child th {\n",
       "        text-align: right;\n",
       "    }\n",
       "\n",
       "    .dataframe thead th {\n",
       "        text-align: left;\n",
       "    }\n",
       "\n",
       "    .dataframe tbody tr th {\n",
       "        vertical-align: top;\n",
       "    }\n",
       "</style>\n",
       "<table border=\"1\" class=\"dataframe\">\n",
       "  <thead>\n",
       "    <tr style=\"text-align: right;\">\n",
       "      <th></th>\n",
       "      <th>Indexcd</th>\n",
       "      <th>Daywk</th>\n",
       "      <th>Opnindex</th>\n",
       "      <th>Hiindex</th>\n",
       "      <th>Loindex</th>\n",
       "      <th>Clsindex</th>\n",
       "      <th>Retindex</th>\n",
       "    </tr>\n",
       "    <tr>\n",
       "      <th>Trddt</th>\n",
       "      <th></th>\n",
       "      <th></th>\n",
       "      <th></th>\n",
       "      <th></th>\n",
       "      <th></th>\n",
       "      <th></th>\n",
       "      <th></th>\n",
       "    </tr>\n",
       "  </thead>\n",
       "  <tbody>\n",
       "    <tr>\n",
       "      <th>2014-12-30</th>\n",
       "      <td>1</td>\n",
       "      <td>2</td>\n",
       "      <td>3160.801</td>\n",
       "      <td>3190.299</td>\n",
       "      <td>3130.353</td>\n",
       "      <td>3165.815</td>\n",
       "      <td>-0.000695</td>\n",
       "    </tr>\n",
       "    <tr>\n",
       "      <th>2014-12-31</th>\n",
       "      <td>1</td>\n",
       "      <td>3</td>\n",
       "      <td>3172.597</td>\n",
       "      <td>3239.357</td>\n",
       "      <td>3157.259</td>\n",
       "      <td>3234.677</td>\n",
       "      <td>0.021752</td>\n",
       "    </tr>\n",
       "  </tbody>\n",
       "</table>\n",
       "</div>"
      ],
      "text/plain": [
       "            Indexcd  Daywk  Opnindex   Hiindex   Loindex  Clsindex  Retindex\n",
       "Trddt                                                                       \n",
       "2014-12-30        1      2  3160.801  3190.299  3130.353  3165.815 -0.000695\n",
       "2014-12-31        1      3  3172.597  3239.357  3157.259  3234.677  0.021752"
      ]
     },
     "execution_count": 28,
     "metadata": {},
     "output_type": "execute_result"
    }
   ],
   "source": [
    "SHindex9End.tail(n=2)"
   ]
  },
  {
   "cell_type": "code",
   "execution_count": 29,
   "metadata": {},
   "outputs": [
    {
     "data": {
      "text/plain": [
       "Trddt\n",
       "2014-01-02    2109.387\n",
       "2014-01-03    2083.136\n",
       "2014-01-06    2045.709\n",
       "2014-01-07    2047.317\n",
       "2014-01-08    2044.340\n",
       "Name: Clsindex, dtype: float64"
      ]
     },
     "execution_count": 29,
     "metadata": {},
     "output_type": "execute_result"
    }
   ],
   "source": [
    "Clsindex.head()"
   ]
  },
  {
   "cell_type": "code",
   "execution_count": 30,
   "metadata": {},
   "outputs": [
    {
     "data": {
      "text/plain": [
       "Trddt\n",
       "2015-04-14    4135.565\n",
       "Name: Clsindex, dtype: float64"
      ]
     },
     "execution_count": 30,
     "metadata": {},
     "output_type": "execute_result"
    }
   ],
   "source": [
    "Clsindex.tail(n=1)"
   ]
  },
  {
   "cell_type": "code",
   "execution_count": 34,
   "metadata": {},
   "outputs": [
    {
     "data": {
      "text/plain": [
       "<matplotlib.axes._subplots.AxesSubplot at 0xb85e50>"
      ]
     },
     "execution_count": 34,
     "metadata": {},
     "output_type": "execute_result"
    },
    {
     "data": {
      "image/png": "[encoded data removed]",
      "text/plain": [
       "<matplotlib.figure.Figure at 0xbd5030>"
      ]
     },
     "metadata": {},
     "output_type": "display_data"
    }
   ],
   "source": [
    "plt.figure(figsize=(10,8),dpi=60)\n",
    "Clsindex.hist()"
   ]
  },
  {
   "cell_type": "markdown",
   "metadata": {},
   "source": [
    "# 求最大值"
   ]
  },
  {
   "cell_type": "code",
   "execution_count": 47,
   "metadata": {},
   "outputs": [
    {
     "name": "stdout",
     "output_type": "stream",
     "text": [
      "求最大值\n"
     ]
    },
    {
     "data": {
      "text/plain": [
       "4135.5649999999996"
      ]
     },
     "execution_count": 47,
     "metadata": {},
     "output_type": "execute_result"
    }
   ],
   "source": [
    "print('求最大值')\n",
    "Clsindex.max()"
   ]
  },
  {
   "cell_type": "markdown",
   "metadata": {},
   "source": [
    "# 求最小值"
   ]
  },
  {
   "cell_type": "code",
   "execution_count": 46,
   "metadata": {},
   "outputs": [
    {
     "name": "stdout",
     "output_type": "stream",
     "text": [
      "求最小值\n"
     ]
    },
    {
     "data": {
      "text/plain": [
       "1991.2529999999999"
      ]
     },
     "execution_count": 46,
     "metadata": {},
     "output_type": "execute_result"
    }
   ],
   "source": [
    "print('求最小值')\n",
    "Clsindex.min()"
   ]
  },
  {
   "cell_type": "markdown",
   "metadata": {},
   "source": [
    "# 求均值"
   ]
  },
  {
   "cell_type": "code",
   "execution_count": 45,
   "metadata": {},
   "outputs": [
    {
     "name": "stdout",
     "output_type": "stream",
     "text": [
      "求均值\n"
     ]
    },
    {
     "data": {
      "text/plain": [
       "2490.0011607717042"
      ]
     },
     "execution_count": 45,
     "metadata": {},
     "output_type": "execute_result"
    }
   ],
   "source": [
    "print('求均值')\n",
    "Clsindex.mean()"
   ]
  },
  {
   "cell_type": "markdown",
   "metadata": {},
   "source": [
    "# 求中位数"
   ]
  },
  {
   "cell_type": "code",
   "execution_count": 44,
   "metadata": {},
   "outputs": [
    {
     "name": "stdout",
     "output_type": "stream",
     "text": [
      "求中位数\n"
     ]
    },
    {
     "data": {
      "text/plain": [
       "2224.654"
      ]
     },
     "execution_count": 44,
     "metadata": {},
     "output_type": "execute_result"
    }
   ],
   "source": [
    "print('求中位数')\n",
    "Clsindex.median()"
   ]
  },
  {
   "cell_type": "markdown",
   "metadata": {},
   "source": [
    "# 求标准差"
   ]
  },
  {
   "cell_type": "code",
   "execution_count": 43,
   "metadata": {},
   "outputs": [
    {
     "name": "stdout",
     "output_type": "stream",
     "text": [
      "求标准差\n"
     ]
    },
    {
     "data": {
      "text/plain": [
       "563.7009796636235"
      ]
     },
     "execution_count": 43,
     "metadata": {},
     "output_type": "execute_result"
    }
   ],
   "source": [
    "print('求标准差')\n",
    "Clsindex.std()"
   ]
  },
  {
   "cell_type": "markdown",
   "metadata": {},
   "source": [
    "# 总结数据分布情况"
   ]
  },
  {
   "cell_type": "code",
   "execution_count": 42,
   "metadata": {},
   "outputs": [
    {
     "name": "stdout",
     "output_type": "stream",
     "text": [
      "总结数据分布情况\n"
     ]
    },
    {
     "data": {
      "text/plain": [
       "count     311.000000\n",
       "mean     2490.001161\n",
       "std       563.700980\n",
       "min      1991.253000\n",
       "25%      2052.140500\n",
       "50%      2224.654000\n",
       "75%      2996.395000\n",
       "max      4135.565000\n",
       "Name: Clsindex, dtype: float64"
      ]
     },
     "execution_count": 42,
     "metadata": {},
     "output_type": "execute_result"
    }
   ],
   "source": [
    "print('总结数据分布情况')\n",
    "Clsindex.describe()"
   ]
  },
  {
   "cell_type": "code",
   "execution_count": 48,
   "metadata": {
    "collapsed": true
   },
   "outputs": [],
   "source": [
    "import os\n",
    "os.chdir('G:\\\\freecloud\\\\ThinkpadC_space\\\\Desktop\\\\资料\\\\资料\\量化投资：以Python为工具\\\\PythonANS\\\\Data')"
   ]
  },
  {
   "cell_type": "code",
   "execution_count": 49,
   "metadata": {
    "collapsed": true
   },
   "outputs": [],
   "source": [
    "import pandas as pd\n",
    "import matplotlib.pyplot as plt"
   ]
  },
  {
   "cell_type": "markdown",
   "metadata": {},
   "source": [
    "# 2.读取CSV格式原数据，将其转换为时间序列数据"
   ]
  },
  {
   "cell_type": "code",
   "execution_count": 51,
   "metadata": {
    "collapsed": true
   },
   "outputs": [],
   "source": [
    "Yen=pd.read_csv('Part4/001/Yen.csv',index_col='date')\n",
    "Yen.index=pd.to_datetime(Yen.index,format='%Y%m%d')"
   ]
  },
  {
   "cell_type": "markdown",
   "metadata": {},
   "source": [
    "# 3.将上题中的时间序列数据可视化"
   ]
  },
  {
   "cell_type": "code",
   "execution_count": 52,
   "metadata": {},
   "outputs": [
    {
     "data": {
      "text/plain": [
       "<matplotlib.axes._subplots.AxesSubplot at 0x5f7fbf0>"
      ]
     },
     "execution_count": 52,
     "metadata": {},
     "output_type": "execute_result"
    },
    {
     "data": {
      "image/png": "[encoded data removed]",
      "text/plain": [
       "<matplotlib.figure.Figure at 0xbac9550>"
      ]
     },
     "metadata": {},
     "output_type": "display_data"
    }
   ],
   "source": [
    "%matplotlib inline\n",
    "matplotlib.rcParams['axes.unicode_minus']=False\n",
    "plt.rc('font', family='SimHei', size=18)\n",
    "plt.figure(figsize=(14,10)) \n",
    "Yen.s.plot()"
   ]
  },
  {
   "cell_type": "markdown",
   "metadata": {},
   "source": [
    "# 4.绘制浦发银行收益率时间序列图"
   ]
  },
  {
   "cell_type": "code",
   "execution_count": 55,
   "metadata": {},
   "outputs": [
    {
     "data": {
      "text/plain": [
       "<matplotlib.axes._subplots.AxesSubplot at 0xd3ca90>"
      ]
     },
     "execution_count": 55,
     "metadata": {},
     "output_type": "execute_result"
    },
    {
     "data": {
      "image/png": "[encoded data removed]",
      "text/plain": [
       "<matplotlib.figure.Figure at 0xd122f0>"
      ]
     },
     "metadata": {},
     "output_type": "display_data"
    }
   ],
   "source": [
    "pfyh=pd.read_csv('Part4/001/pfyh.csv',index_col='Date')\n",
    "pfyh.index=pd.to_datetime(pfyh.index,format='%Y-%m-%d')\n",
    "returns=(pfyh.Close-pfyh.Close.shift(1))/pfyh.Close.shift(1)\n",
    "returns=returns[1:]\n",
    "%matplotlib inline\n",
    "matplotlib.rcParams['axes.unicode_minus']=False\n",
    "plt.rc('font', family='SimHei', size=18)\n",
    "plt.figure(figsize=(14,10))\n",
    "returns.plot()"
   ]
  },
  {
   "cell_type": "code",
   "execution_count": null,
   "metadata": {
    "collapsed": true
   },
   "outputs": [],
   "source": []
  }
 ],
 "metadata": {
  "kernelspec": {
   "display_name": "Python 3",
   "language": "python",
   "name": "python3"
  },
  "language_info": {
   "codemirror_mode": {
    "name": "ipython",
    "version": 3
   },
   "file_extension": ".py",
   "mimetype": "text/x-python",
   "name": "python",
   "nbconvert_exporter": "python",
   "pygments_lexer": "ipython3",
   "version": "3.6.3"
  }
 },
 "nbformat": 4,
 "nbformat_minor": 2
}
