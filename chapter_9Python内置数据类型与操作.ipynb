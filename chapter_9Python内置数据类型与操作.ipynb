{
 "cells": [
  {
   "cell_type": "markdown",
   "metadata": {},
   "source": [
    "# pmath"
   ]
  },
  {
   "cell_type": "code",
   "execution_count": 1,
   "metadata": {
    "collapsed": true
   },
   "outputs": [],
   "source": [
    "def findMax(sequence):\n",
    "    maxValue = sequence(0)\n",
    "    \n",
    "    for a in sequence:\n",
    "        if a > sequence:\n",
    "            maxValue = a\n",
    "            \n",
    "    return(maxValue)\n",
    "    \n",
    "    \n",
    "def findMin(sequence):\n",
    "    minValue = sequence(0)\n",
    "    \n",
    "    for a in sequence:\n",
    "        if a < sequence:\n",
    "            minValue = a\n",
    "            \n",
    "    return(minValue)"
   ]
  },
  {
   "cell_type": "markdown",
   "metadata": {},
   "source": [
    "# priceAnalysis_v02(无pmath模块)"
   ]
  },
  {
   "cell_type": "code",
   "execution_count": null,
   "metadata": {},
   "outputs": [],
   "source": [
    "import pmath\n",
    "\n",
    "def OpenPrice(priceSequence):\n",
    "    Open = priceSequence[0]\n",
    "    return(Open)\n",
    "    \n",
    "def ClosePrice(priceSequence):  \n",
    "    Close = priceSequence[-1]\n",
    "    return(Close)\n",
    "    \n",
    "def HighPrice(priceSequence):\n",
    "    High = pmath.findMax(priceSequence)    \n",
    "    return(High)\n",
    "    \n",
    "def LowPrice(priceSequence):\n",
    "    Low = pmath.findMin(priceSequence)\n",
    "    return(Low)"
   ]
  },
  {
   "cell_type": "markdown",
   "metadata": {},
   "source": [
    "# priceAnalysis"
   ]
  },
  {
   "cell_type": "code",
   "execution_count": 3,
   "metadata": {
    "collapsed": true
   },
   "outputs": [],
   "source": [
    "def OpenPrice(priceSequence):\n",
    "    Open = priceSequence[0]\n",
    "    return(Open)\n",
    "    \n",
    "def ClosePrice(priceSequence):  \n",
    "    Close = priceSequence[-1]\n",
    "    return(Close)\n",
    "    \n",
    "def HighPrice(priceSequence):\n",
    "    High = priceSequence[0]\n",
    "    for price in priceSequence:\n",
    "        if price > High:\n",
    "            High = price\n",
    "    return(High)\n",
    "    \n",
    "def LowPrice(priceSequence):\n",
    "    Low = priceSequence[0]\n",
    "    for price in priceSequence:\n",
    "        if price < Low:\n",
    "            Low = price\n",
    "    return(Low)"
   ]
  },
  {
   "cell_type": "markdown",
   "metadata": {},
   "source": [
    "# 1.获取当前时间并转换成“2009-04-04”的形式"
   ]
  },
  {
   "cell_type": "code",
   "execution_count": 5,
   "metadata": {},
   "outputs": [
    {
     "data": {
      "text/plain": [
       "'2018-02-22'"
      ]
     },
     "execution_count": 5,
     "metadata": {},
     "output_type": "execute_result"
    }
   ],
   "source": [
    "import datetime as dt\n",
    "\n",
    "now = dt.datetime.now()\n",
    "\n",
    "now.strftime('%Y-%m-%d')"
   ]
  },
  {
   "cell_type": "markdown",
   "metadata": {},
   "source": [
    "# 2.使用input函数模拟一个创建用户的函数，该函数可以完成下列功能:\n",
    "# ①提示用户输入用户名和密码；\n",
    "# ②用户名必须以字母开头；\n",
    "# ③密码以字母开头，且包含数字和“_”、“*”、“#”这三个符号中的任意一个；\n",
    "# ④密码长度大于6位；\n",
    "# ⑤提示用户创建成功"
   ]
  },
  {
   "cell_type": "code",
   "execution_count": null,
   "metadata": {},
   "outputs": [],
   "source": [
    "def create_name():\n",
    "    name = input('输入用户名\\n')\n",
    "    if ord(name[0])<65 or ord(name[0])>122:\n",
    "        print('用户名必须以字母开头')\n",
    "        return(create_name())\n",
    "    else:\n",
    "        return(name)\n",
    "\n",
    "def verify_passwd(passwd):\n",
    "    head = 65 <= ord(passwd[0]) <= 122\n",
    "    contain_number = any([str(x) in passwd for x in range(9)])\n",
    "    contain_symbol = any([str(x) in passwd for x in ('_','*','#')])\n",
    "    return(head and (contain_number or contain_symbol))\n",
    "\n",
    "def create_passwd():\n",
    "    passwd = input('输入密码\\n')\n",
    "    is_legal = verify_passwd(passwd)\n",
    "    if is_legal:\n",
    "        return(passwd)\n",
    "    else:\n",
    "        print('密码以字母开头且长度大于6位，并包含数字和“_”、“*”、“#”三个符号中的任意一个')\n",
    "        return(create_passwd())\n",
    "        \n",
    "def create_account():\n",
    "    create_name()\n",
    "    create_passwd()\n",
    "    print('用户创建成功')\n",
    "    \n",
    "create_account()"
   ]
  },
  {
   "cell_type": "markdown",
   "metadata": {
    "collapsed": true
   },
   "source": [
    "# 3.使用list和range，输出100以内（包括100）的所有偶数"
   ]
  },
  {
   "cell_type": "code",
   "execution_count": 10,
   "metadata": {},
   "outputs": [
    {
     "name": "stdout",
     "output_type": "stream",
     "text": [
      "[2, 4, 6, 8, 10, 12, 14, 16, 18, 20, 22, 24, 26, 28, 30, 32, 34, 36, 38, 40, 42, 44, 46, 48, 50, 52, 54, 56, 58, 60, 62, 64, 66, 68, 70, 72, 74, 76, 78, 80, 82, 84, 86, 88, 90, 92, 94, 96, 98, 100]\n"
     ]
    }
   ],
   "source": [
    "evens =[i+1 for i in range(100) if (i+1)%2==0]\n",
    "print(evens)"
   ]
  },
  {
   "cell_type": "markdown",
   "metadata": {
    "collapsed": true
   },
   "source": [
    "# 4.将给定的数据作为字典\n",
    "# ②假设1月20日的收盘价为7.44元，将该数据加入字典；\n",
    "# ③假设现在是1月21日，使用datatime模块查询四天前的收盘价；\n",
    "# ④将1月16日的收盘价改为7.50元"
   ]
  },
  {
   "cell_type": "code",
   "execution_count": 14,
   "metadata": {},
   "outputs": [
    {
     "data": {
      "text/plain": [
       "{datetime.datetime(2015, 1, 13, 0, 0): 7.31,\n",
       " datetime.datetime(2015, 1, 14, 0, 0): 7.28,\n",
       " datetime.datetime(2015, 1, 15, 0, 0): 7.4,\n",
       " datetime.datetime(2015, 1, 16, 0, 0): 7.43,\n",
       " datetime.datetime(2015, 1, 17, 0, 0): 7.41}"
      ]
     },
     "execution_count": 14,
     "metadata": {},
     "output_type": "execute_result"
    }
   ],
   "source": [
    "import datetime as dt\n",
    "dates = [dt.datetime(2015,1,13)+dt.timedelta(i) for i in range(5)]\n",
    "closes = [7.31,7.28,7.40,7.43,7.41]\n",
    "prices = {dates[i]:closes[i] for i in range(5)}"
   ]
  },
  {
   "cell_type": "code",
   "execution_count": 15,
   "metadata": {
    "collapsed": true
   },
   "outputs": [],
   "source": [
    "prices[dt.datetime(2015,1,20)] = 7.44"
   ]
  },
  {
   "cell_type": "code",
   "execution_count": 16,
   "metadata": {
    "collapsed": true
   },
   "outputs": [],
   "source": [
    "dates.append(dt.datetime(2015,1,20))"
   ]
  },
  {
   "cell_type": "code",
   "execution_count": 17,
   "metadata": {},
   "outputs": [
    {
     "data": {
      "text/plain": [
       "7.41"
      ]
     },
     "execution_count": 17,
     "metadata": {},
     "output_type": "execute_result"
    }
   ],
   "source": [
    "prices[dt.datetime(2015,1,21)- dt.timedelta(4)]"
   ]
  },
  {
   "cell_type": "code",
   "execution_count": 18,
   "metadata": {
    "collapsed": true
   },
   "outputs": [],
   "source": [
    "prices[dt.datetime(2015,1,16)] = 7.50"
   ]
  },
  {
   "cell_type": "markdown",
   "metadata": {
    "collapsed": true
   },
   "source": [
    "# 5.使用前表2数据，假设交易策略为：当期价格比前一期的高，买进，第二期卖出。初始资金10000元，用50%的cash买入股票，买入股票份额为整数。 \n",
    "# 要求：产生一个持有股票份额的字典对象"
   ]
  },
  {
   "cell_type": "code",
   "execution_count": 19,
   "metadata": {},
   "outputs": [
    {
     "data": {
      "text/plain": [
       "{datetime.datetime(2015, 1, 13, 0, 0): 0,\n",
       " datetime.datetime(2015, 1, 14, 0, 0): 0,\n",
       " datetime.datetime(2015, 1, 15, 0, 0): 675,\n",
       " datetime.datetime(2015, 1, 16, 0, 0): 333,\n",
       " datetime.datetime(2015, 1, 17, 0, 0): 0,\n",
       " datetime.datetime(2015, 1, 20, 0, 0): 508}"
      ]
     },
     "execution_count": 19,
     "metadata": {},
     "output_type": "execute_result"
    }
   ],
   "source": [
    "import math\n",
    "cash = 10000\n",
    "share = {dates[0]:0}\n",
    "for i in range(1,6):\n",
    "    if prices[dates[i]]>prices[dates[i-1]]:\n",
    "        buyshare = math.floor(0.5*cash/prices[dates[i]])\n",
    "        share[dates[i]]= buyshare\n",
    "        cash=cash-buyshare*prices[dates[i]]+share[dates[i-1]]*prices[dates[i]]\n",
    "    else:\n",
    "         share[dates[i]]= 0\n",
    "share"
   ]
  },
  {
   "cell_type": "code",
   "execution_count": null,
   "metadata": {
    "collapsed": true
   },
   "outputs": [],
   "source": []
  }
 ],
 "metadata": {
  "kernelspec": {
   "display_name": "Python 3",
   "language": "python",
   "name": "python3"
  },
  "language_info": {
   "codemirror_mode": {
    "name": "ipython",
    "version": 3
   },
   "file_extension": ".py",
   "mimetype": "text/x-python",
   "name": "python",
   "nbconvert_exporter": "python",
   "pygments_lexer": "ipython3",
   "version": "3.6.3"
  }
 },
 "nbformat": 4,
 "nbformat_minor": 2
}
